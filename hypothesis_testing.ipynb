{
 "cells": [
  {
   "cell_type": "code",
   "execution_count": 9,
   "id": "42e9ef6d",
   "metadata": {},
   "outputs": [],
   "source": [
    "import numpy as np\n",
    "import seaborn as sns\n",
    "import scipy.stats as stats\n",
    "import pandas as pd\n",
    "import matplotlib.pyplot as plt\n",
    "\n",
    "from pydataset import data"
   ]
  },
  {
   "cell_type": "markdown",
   "id": "b6814f25",
   "metadata": {},
   "source": [
    "### 1. Answer with the type of test you would use (assume normal distribution):"
   ]
  },
  {
   "cell_type": "markdown",
   "id": "4271ef4a",
   "metadata": {},
   "source": [
    "##### a. Is there a difference in grades of students on the second floor compared to grades of all students?\n"
   ]
  },
  {
   "cell_type": "code",
   "execution_count": null,
   "id": "ee9c5743",
   "metadata": {},
   "outputs": [],
   "source": [
    "# One sample t-test, 2 tail"
   ]
  },
  {
   "cell_type": "markdown",
   "id": "c90595ee",
   "metadata": {},
   "source": [
    "##### b. Are adults who drink milk taller than adults who dont drink milk?\n"
   ]
  },
  {
   "cell_type": "code",
   "execution_count": null,
   "id": "81f16170",
   "metadata": {},
   "outputs": [],
   "source": [
    "# Two sample t-test, 1 tail"
   ]
  },
  {
   "cell_type": "markdown",
   "id": "40da84f2",
   "metadata": {},
   "source": [
    "##### c. Is the the price of gas higher in texas or in new mexico?"
   ]
  },
  {
   "cell_type": "code",
   "execution_count": null,
   "id": "78c00f40",
   "metadata": {},
   "outputs": [],
   "source": [
    "# Two sample t-test, 1 tail"
   ]
  },
  {
   "cell_type": "markdown",
   "id": "434b0e93",
   "metadata": {},
   "source": [
    "##### d. Are there differences in stress levels between students who take data science vs students who take web development vs students who take cloud academy?"
   ]
  },
  {
   "cell_type": "code",
   "execution_count": null,
   "id": "c973e498",
   "metadata": {},
   "outputs": [],
   "source": [
    "# Two sample t-test, 2 tail"
   ]
  },
  {
   "cell_type": "markdown",
   "id": "bc440bb0",
   "metadata": {},
   "source": [
    "##### "
   ]
  },
  {
   "cell_type": "markdown",
   "id": "6a5f7740",
   "metadata": {},
   "source": [
    "### 2. Ace Realty wants to determine whether the average time it takes to sell homes is different for its two offices. A sample of 40 sales from office #1 revealed a mean of 90 days and a standard deviation of 15 days. A sample of 50 sales from office #2 revealed a mean of 100 days and a standard deviation of 20 days. Use a .05 level of significance."
   ]
  },
  {
   "cell_type": "markdown",
   "id": "ed17921b",
   "metadata": {},
   "source": [
    "##### office_1\n",
    "    - sample size = 40 sales\n",
    "    - μ = 90 days\n",
    "    - sd = 15 days\n",
    "\n",
    "##### office_2\n",
    "    - sample size = 50 sales\n",
    "    - μ = 100 days\n",
    "    - sd = 20 days\n",
    "    "
   ]
  },
  {
   "cell_type": "markdown",
   "id": "99810118",
   "metadata": {},
   "source": [
    "##### significance level = 0.05"
   ]
  },
  {
   "cell_type": "markdown",
   "id": "79c9fe9f",
   "metadata": {},
   "source": [
    "##### H$_0$ : There is not a difference in the mean time it takes office_1 and office_2 to sell a house\n",
    "\n",
    "##### H$_a$ : There is a difference in the mean time it takes office_1 and office_2 to sell a house"
   ]
  },
  {
   "cell_type": "code",
   "execution_count": 10,
   "id": "1dfb0cd5",
   "metadata": {},
   "outputs": [],
   "source": [
    "# confidence level = 0.95\n",
    "α = 0.05\n",
    "\n",
    "# Office_1\n",
    "μ_1 = 90\n",
    "sample_size_1 = 40\n",
    "sd_1 = 15\n",
    "\n",
    "# Office_2\n",
    "μ_2 = 100\n",
    "sample_size_2 = 50\n",
    "sd_2 = 20"
   ]
  },
  {
   "cell_type": "code",
   "execution_count": 15,
   "id": "8e5f747f",
   "metadata": {},
   "outputs": [],
   "source": [
    "office_1_data = np.random.normal(μ_1, sd_1, sample_size_1)\n",
    "\n",
    "office_2_data = np.random.normal(μ_2, sd_2, sample_size_2)"
   ]
  },
  {
   "cell_type": "code",
   "execution_count": 19,
   "id": "9568fad1",
   "metadata": {},
   "outputs": [],
   "source": [
    "_, levene_p = stats.levene(office_1_data, office_2_data)"
   ]
  },
  {
   "cell_type": "code",
   "execution_count": 20,
   "id": "94dcc23b",
   "metadata": {},
   "outputs": [
    {
     "data": {
      "text/plain": [
       "True"
      ]
     },
     "execution_count": 20,
     "metadata": {},
     "output_type": "execute_result"
    }
   ],
   "source": [
    "levene_p < α"
   ]
  },
  {
   "cell_type": "code",
   "execution_count": null,
   "id": "efd51332",
   "metadata": {},
   "outputs": [],
   "source": [
    "# p_val < α, we reject the null hypothesis. \n",
    "# -- We accept there is a difference in mean time \n",
    "# -- it takes office_1 and office_2 to sell a house."
   ]
  },
  {
   "cell_type": "markdown",
   "id": "eb35bf8f",
   "metadata": {},
   "source": [
    "##### "
   ]
  },
  {
   "cell_type": "markdown",
   "id": "876440dc",
   "metadata": {},
   "source": [
    "### 3. Load the mpg dataset and use it to answer the following questions:\n",
    "\n",
    "    a. Is there a difference in fuel-efficiency in cars from 2008 vs 1999?\n",
    "    \n",
    "    b. Are compact cars more fuel-efficient than the average car?\n",
    "    \n",
    "    c. Do manual cars get better gas mileage than automatic cars?"
   ]
  },
  {
   "cell_type": "code",
   "execution_count": 22,
   "id": "10f236f5",
   "metadata": {},
   "outputs": [],
   "source": [
    "mpg = data('mpg')"
   ]
  },
  {
   "cell_type": "markdown",
   "id": "d227123e",
   "metadata": {},
   "source": [
    "##### a. Is there a difference in fuel-efficiency in cars from 2008 vs 1999?\n",
    "    Two sample ttest, two tail\n",
    "\n",
    "H$_0$: There is not a difference in fuel-efficiency in cars from 2008 and 1999\n",
    "\n",
    "H$_a$: There is a difference in fuel-efficiency in cars from 2008 and 1999"
   ]
  },
  {
   "cell_type": "code",
   "execution_count": 31,
   "id": "15cdb9a7",
   "metadata": {},
   "outputs": [],
   "source": [
    "mpg['fuel_efficiency'] = mpg[['cty','hwy']].agg('mean', axis=1)"
   ]
  },
  {
   "cell_type": "code",
   "execution_count": 49,
   "id": "08cc25bf",
   "metadata": {},
   "outputs": [
    {
     "data": {
      "text/plain": [
       "<function matplotlib.pyplot.show(close=None, block=None)>"
      ]
     },
     "execution_count": 49,
     "metadata": {},
     "output_type": "execute_result"
    },
    {
     "data": {
      "image/png": "[encoded data removed]",
      "text/plain": [
       "<Figure size 640x480 with 1 Axes>"
      ]
     },
     "metadata": {},
     "output_type": "display_data"
    }
   ],
   "source": [
    "plt.hist(mpg[mpg.year == 1999].fuel_efficiency)\n",
    "plt.show"
   ]
  },
  {
   "cell_type": "code",
   "execution_count": 57,
   "id": "fb7ea7aa",
   "metadata": {},
   "outputs": [
    {
     "data": {
      "text/plain": [
       "20.22222222222222"
      ]
     },
     "execution_count": 57,
     "metadata": {},
     "output_type": "execute_result"
    }
   ],
   "source": [
    "μ_1999 = mpg[mpg['year'] == 1999].fuel_efficiency.mean()\n",
    "\n",
    "μ_1999"
   ]
  },
  {
   "cell_type": "code",
   "execution_count": 56,
   "id": "02419a53",
   "metadata": {},
   "outputs": [
    {
     "data": {
      "text/plain": [
       "20.076923076923077"
      ]
     },
     "execution_count": 56,
     "metadata": {},
     "output_type": "execute_result"
    }
   ],
   "source": [
    "μ_2008 = mpg[mpg['year'] == 2008].fuel_efficiency.mean()\n",
    "\n",
    "μ_2008"
   ]
  },
  {
   "cell_type": "code",
   "execution_count": 61,
   "id": "e7813690",
   "metadata": {},
   "outputs": [],
   "source": [
    "fuel_1999 = mpg[mpg['year'] == 1999].fuel_efficiency\n",
    "\n",
    "fuel_2008 = mpg[mpg['year'] == 2008].fuel_efficiency"
   ]
  },
  {
   "cell_type": "code",
   "execution_count": 73,
   "id": "f1ed07b7",
   "metadata": {},
   "outputs": [],
   "source": [
    "_, levene_fuel = stats.levene(fuel_1999, fuel_2008)"
   ]
  },
  {
   "cell_type": "code",
   "execution_count": 70,
   "id": "c5c2c921",
   "metadata": {},
   "outputs": [],
   "source": [
    "α = 0.05"
   ]
  },
  {
   "cell_type": "code",
   "execution_count": 71,
   "id": "2def4877",
   "metadata": {},
   "outputs": [
    {
     "data": {
      "text/plain": [
       "False"
      ]
     },
     "execution_count": 71,
     "metadata": {},
     "output_type": "execute_result"
    }
   ],
   "source": [
    "levene_fuel < α"
   ]
  },
  {
   "cell_type": "code",
   "execution_count": null,
   "id": "f1e593a7",
   "metadata": {},
   "outputs": [],
   "source": [
    "# levene_fuel is not less than α. \n",
    "# -- We fail to reject the null hypothesis at this time."
   ]
  },
  {
   "cell_type": "code",
   "execution_count": 76,
   "id": "13693725",
   "metadata": {},
   "outputs": [],
   "source": [
    "_, fuel_ttest = stats.ttest_ind(fuel_1999, fuel_2008)"
   ]
  },
  {
   "cell_type": "code",
   "execution_count": 77,
   "id": "29247ad7",
   "metadata": {},
   "outputs": [
    {
     "data": {
      "text/plain": [
       "False"
      ]
     },
     "execution_count": 77,
     "metadata": {},
     "output_type": "execute_result"
    }
   ],
   "source": [
    "fuel_ttest < α"
   ]
  },
  {
   "cell_type": "code",
   "execution_count": null,
   "id": "4d08c1c8",
   "metadata": {},
   "outputs": [],
   "source": [
    "# fuel_ttest is not less than α.\n",
    "# -- At this time we fail to reject the null hypothesis.\n",
    "# - We conclude there is not a significant difference in \n",
    "# -- fuel-efficiency in cars from 2008 and 1999."
   ]
  },
  {
   "cell_type": "markdown",
   "id": "1b9ac669",
   "metadata": {},
   "source": [
    "##### b. Are compact cars more fuel-efficient than the average car?"
   ]
  },
  {
   "cell_type": "code",
   "execution_count": 86,
   "id": "1abc9b76",
   "metadata": {},
   "outputs": [],
   "source": [
    "compact_car = mpg[mpg['class'] == 'compact'].fuel_efficiency"
   ]
  },
  {
   "cell_type": "code",
   "execution_count": 87,
   "id": "891f1daf",
   "metadata": {},
   "outputs": [],
   "source": [
    "average_car = mpg[mpg['class'] != 'compact'].fuel_efficiency"
   ]
  },
  {
   "cell_type": "code",
   "execution_count": 92,
   "id": "cb41b41c",
   "metadata": {},
   "outputs": [],
   "source": [
    "_, compact_levene = stats.levene(average_car, compact_car)"
   ]
  },
  {
   "cell_type": "code",
   "execution_count": 122,
   "id": "73a1600c",
   "metadata": {},
   "outputs": [
    {
     "data": {
      "text/plain": [
       "True"
      ]
     },
     "execution_count": 122,
     "metadata": {},
     "output_type": "execute_result"
    }
   ],
   "source": [
    "compact_levene < (α/2)"
   ]
  },
  {
   "cell_type": "code",
   "execution_count": null,
   "id": "e807b3cb",
   "metadata": {},
   "outputs": [],
   "source": [
    "# compact_levene is less than α.\n",
    "# We accept the null hypothesis and conclude there is\n",
    "# -- sufficient evidence to support the claim \"compact cars\n",
    "# -- are more fuel efficient than the avg car.\""
   ]
  },
  {
   "cell_type": "markdown",
   "id": "a6cab840",
   "metadata": {},
   "source": [
    "##### c. Do manual cars get better gas mileage than automatic cars?"
   ]
  },
  {
   "cell_type": "code",
   "execution_count": 100,
   "id": "01857893",
   "metadata": {},
   "outputs": [
    {
     "data": {
      "text/plain": [
       "1      False\n",
       "2       True\n",
       "3       True\n",
       "4      False\n",
       "5      False\n",
       "       ...  \n",
       "230    False\n",
       "231     True\n",
       "232    False\n",
       "233     True\n",
       "234    False\n",
       "Name: trans, Length: 234, dtype: bool"
      ]
     },
     "execution_count": 100,
     "metadata": {},
     "output_type": "execute_result"
    }
   ],
   "source": [
    "manual_car = mpg['manual_transmission'] = mpg.trans.str.startswith('manual')\n",
    "\n",
    "manual_car"
   ]
  },
  {
   "cell_type": "code",
   "execution_count": 104,
   "id": "e3135dba",
   "metadata": {},
   "outputs": [],
   "source": [
    "auto = mpg[mpg['manual_transmission'] == True].fuel_efficiency\n",
    "\n",
    "manual = mpg[mpg.manual_transmission == False].fuel_efficiency\n"
   ]
  },
  {
   "cell_type": "code",
   "execution_count": 110,
   "id": "653123a7",
   "metadata": {},
   "outputs": [
    {
     "data": {
      "text/plain": [
       "0.6545276355131857"
      ]
     },
     "execution_count": 110,
     "metadata": {},
     "output_type": "execute_result"
    }
   ],
   "source": [
    "_, manual_levene = stats.levene(manual, auto)\n",
    "manual_levene"
   ]
  },
  {
   "cell_type": "code",
   "execution_count": 111,
   "id": "51a09f9b",
   "metadata": {},
   "outputs": [
    {
     "data": {
      "text/plain": [
       "False"
      ]
     },
     "execution_count": 111,
     "metadata": {},
     "output_type": "execute_result"
    }
   ],
   "source": [
    "manual_levene < α"
   ]
  },
  {
   "cell_type": "code",
   "execution_count": 112,
   "id": "23cf843d",
   "metadata": {},
   "outputs": [],
   "source": [
    "# manual_levene is not less than α.\n",
    "# At this time we fail to reject the null hypothesis\n",
    "# -- and continue with a 2 sample ttest, 1 tail"
   ]
  },
  {
   "cell_type": "code",
   "execution_count": 119,
   "id": "c0af1187",
   "metadata": {},
   "outputs": [
    {
     "data": {
      "text/plain": [
       "7.154374401145685e-06"
      ]
     },
     "execution_count": 119,
     "metadata": {},
     "output_type": "execute_result"
    }
   ],
   "source": [
    "_, manual_ttest = stats.ttest_ind(manual, auto)\n",
    "manual_ttest"
   ]
  },
  {
   "cell_type": "code",
   "execution_count": 123,
   "id": "b8a63a2e",
   "metadata": {},
   "outputs": [
    {
     "data": {
      "text/plain": [
       "True"
      ]
     },
     "execution_count": 123,
     "metadata": {},
     "output_type": "execute_result"
    }
   ],
   "source": [
    "manual_ttest < (α/2)"
   ]
  },
  {
   "cell_type": "code",
   "execution_count": 121,
   "id": "cc7027b3",
   "metadata": {},
   "outputs": [],
   "source": [
    "# manual_ttest is less than α\n",
    "# at this time we accept the null hypothesis and\n",
    "# -- conclude there is not sufficient evidence to support \n",
    "# -- the claim \"manual cars get better gas mileage than automatic cars\"\n"
   ]
  },
  {
   "cell_type": "code",
   "execution_count": null,
   "id": "1930057e",
   "metadata": {},
   "outputs": [],
   "source": []
  }
 ],
 "metadata": {
  "kernelspec": {
   "display_name": "Python 3 (ipykernel)",
   "language": "python",
   "name": "python3"
  },
  "language_info": {
   "codemirror_mode": {
    "name": "ipython",
    "version": 3
   },
   "file_extension": ".py",
   "mimetype": "text/x-python",
   "name": "python",
   "nbconvert_exporter": "python",
   "pygments_lexer": "ipython3",
   "version": "3.9.13"
  }
 },
 "nbformat": 4,
 "nbformat_minor": 5
}
