{
 "cells": [
  {
   "cell_type": "code",
   "execution_count": 1,
   "id": "42e9ef6d",
   "metadata": {},
   "outputs": [],
   "source": [
    "import numpy as np\n",
    "import seaborn as sns\n",
    "import scipy.stats as stats\n",
    "import pandas as pd\n",
    "import matplotlib.pyplot as plt\n",
    "from pydataset import data"
   ]
  },
  {
   "cell_type": "markdown",
   "id": "b6814f25",
   "metadata": {},
   "source": [
    "### 1. Answer with the type of test you would use (assume normal distribution):"
   ]
  },
  {
   "cell_type": "markdown",
   "id": "4271ef4a",
   "metadata": {},
   "source": [
    "##### a. Is there a difference in grades of students on the second floor compared to grades of all students?\n"
   ]
  },
  {
   "cell_type": "code",
   "execution_count": null,
   "id": "ee9c5743",
   "metadata": {},
   "outputs": [],
   "source": [
    "# One sample t-test, 2 tail"
   ]
  },
  {
   "cell_type": "markdown",
   "id": "c90595ee",
   "metadata": {},
   "source": [
    "##### b. Are adults who drink milk taller than adults who dont drink milk?\n"
   ]
  },
  {
   "cell_type": "code",
   "execution_count": null,
   "id": "81f16170",
   "metadata": {},
   "outputs": [],
   "source": [
    "# Two sample t-test, 1 tail"
   ]
  },
  {
   "cell_type": "markdown",
   "id": "40da84f2",
   "metadata": {},
   "source": [
    "##### c. Is the the price of gas higher in texas or in new mexico?"
   ]
  },
  {
   "cell_type": "code",
   "execution_count": null,
   "id": "78c00f40",
   "metadata": {},
   "outputs": [],
   "source": [
    "# Two sample t-test, 1 tail"
   ]
  },
  {
   "cell_type": "markdown",
   "id": "434b0e93",
   "metadata": {},
   "source": [
    "##### d. Are there differences in stress levels between students who take data science vs students who take web development vs students who take cloud academy?"
   ]
  },
  {
   "cell_type": "code",
   "execution_count": null,
   "id": "c973e498",
   "metadata": {},
   "outputs": [],
   "source": [
    "# Two sample t-test, 2 tail"
   ]
  },
  {
   "cell_type": "markdown",
   "id": "bc440bb0",
   "metadata": {},
   "source": [
    "##### "
   ]
  },
  {
   "cell_type": "markdown",
   "id": "6a5f7740",
   "metadata": {},
   "source": [
    "### 2. Ace Realty wants to determine whether the average time it takes to sell homes is different for its two offices. A sample of 40 sales from office #1 revealed a mean of 90 days and a standard deviation of 15 days. A sample of 50 sales from office #2 revealed a mean of 100 days and a standard deviation of 20 days. Use a .05 level of significance."
   ]
  },
  {
   "cell_type": "markdown",
   "id": "ed17921b",
   "metadata": {},
   "source": [
    "##### office_1\n",
    "    - sample size = 40 sales\n",
    "    - μ = 90 days\n",
    "    - sd = 15 days\n",
    "\n",
    "##### office_2\n",
    "    - sample size = 50 sales\n",
    "    - μ = 100 days\n",
    "    - sd = 20 days\n",
    "    "
   ]
  },
  {
   "cell_type": "markdown",
   "id": "99810118",
   "metadata": {},
   "source": [
    "##### significance level = 0.05"
   ]
  },
  {
   "cell_type": "markdown",
   "id": "79c9fe9f",
   "metadata": {},
   "source": [
    "##### H$_0$ : There is not a difference in the mean time it takes office_1 and office_2 to sell a house\n",
    "\n",
    "##### H$_a$ : There is a difference in the mean time it takes office_1 and office_2 to sell a house"
   ]
  },
  {
   "cell_type": "code",
   "execution_count": 10,
   "id": "1dfb0cd5",
   "metadata": {},
   "outputs": [],
   "source": [
    "# confidence level = 0.95\n",
    "α = 0.05\n",
    "\n",
    "# Office_1\n",
    "μ_1 = 90\n",
    "sample_size_1 = 40\n",
    "sd_1 = 15\n",
    "\n",
    "# Office_2\n",
    "μ_2 = 100\n",
    "sample_size_2 = 50\n",
    "sd_2 = 20"
   ]
  },
  {
   "cell_type": "code",
   "execution_count": 15,
   "id": "8e5f747f",
   "metadata": {},
   "outputs": [],
   "source": [
    "office_1_data = np.random.normal(μ_1, sd_1, sample_size_1)\n",
    "\n",
    "office_2_data = np.random.normal(μ_2, sd_2, sample_size_2)"
   ]
  },
  {
   "cell_type": "code",
   "execution_count": 19,
   "id": "9568fad1",
   "metadata": {},
   "outputs": [],
   "source": [
    "_, levene_p = stats.levene(office_1_data, office_2_data)"
   ]
  },
  {
   "cell_type": "code",
   "execution_count": 20,
   "id": "94dcc23b",
   "metadata": {},
   "outputs": [
    {
     "data": {
      "text/plain": [
       "True"
      ]
     },
     "execution_count": 20,
     "metadata": {},
     "output_type": "execute_result"
    }
   ],
   "source": [
    "levene_p < α"
   ]
  },
  {
   "cell_type": "code",
   "execution_count": null,
   "id": "efd51332",
   "metadata": {},
   "outputs": [],
   "source": [
    "# p_val < α, we reject the null hypothesis. \n",
    "# -- We accept there is a difference in mean time \n",
    "# -- it takes office_1 and office_2 to sell a house."
   ]
  },
  {
   "cell_type": "markdown",
   "id": "eb35bf8f",
   "metadata": {},
   "source": [
    "##### "
   ]
  },
  {
   "cell_type": "markdown",
   "id": "876440dc",
   "metadata": {},
   "source": [
    "### 3. Load the mpg dataset and use it to answer the following questions:\n",
    "\n",
    "    a. Is there a difference in fuel-efficiency in cars from 2008 vs 1999?\n",
    "    \n",
    "    b. Are compact cars more fuel-efficient than the average car?\n",
    "    \n",
    "    c. Do manual cars get better gas mileage than automatic cars?"
   ]
  },
  {
   "cell_type": "code",
   "execution_count": 22,
   "id": "10f236f5",
   "metadata": {},
   "outputs": [],
   "source": [
    "mpg = data('mpg')"
   ]
  },
  {
   "cell_type": "markdown",
   "id": "d227123e",
   "metadata": {},
   "source": [
    "##### a. Is there a difference in fuel-efficiency in cars from 2008 vs 1999?\n",
    "    Two sample ttest, two tail\n",
    "\n",
    "H$_0$: There is not a difference in fuel-efficiency in cars from 2008 and 1999\n",
    "\n",
    "H$_a$: There is a difference in fuel-efficiency in cars from 2008 and 1999"
   ]
  },
  {
   "cell_type": "code",
   "execution_count": 31,
   "id": "15cdb9a7",
   "metadata": {},
   "outputs": [],
   "source": [
    "mpg['fuel_efficiency'] = mpg[['cty','hwy']].agg('mean', axis=1)"
   ]
  },
  {
   "cell_type": "code",
   "execution_count": 49,
   "id": "08cc25bf",
   "metadata": {},
   "outputs": [
    {
     "data": {
      "text/plain": [
       "<function matplotlib.pyplot.show(close=None, block=None)>"
      ]
     },
     "execution_count": 49,
     "metadata": {},
     "output_type": "execute_result"
    },
    {
     "data": {
      "image/png": "[encoded data removed]",
      "text/plain": [
       "<Figure size 640x480 with 1 Axes>"
      ]
     },
     "metadata": {},
     "output_type": "display_data"
    }
   ],
   "source": [
    "plt.hist(mpg[mpg.year == 1999].fuel_efficiency)\n",
    "plt.show"
   ]
  },
  {
   "cell_type": "code",
   "execution_count": 57,
   "id": "fb7ea7aa",
   "metadata": {},
   "outputs": [
    {
     "data": {
      "text/plain": [
       "20.22222222222222"
      ]
     },
     "execution_count": 57,
     "metadata": {},
     "output_type": "execute_result"
    }
   ],
   "source": [
    "μ_1999 = mpg[mpg['year'] == 1999].fuel_efficiency.mean()\n",
    "\n",
    "μ_1999"
   ]
  },
  {
   "cell_type": "code",
   "execution_count": 56,
   "id": "02419a53",
   "metadata": {},
   "outputs": [
    {
     "data": {
      "text/plain": [
       "20.076923076923077"
      ]
     },
     "execution_count": 56,
     "metadata": {},
     "output_type": "execute_result"
    }
   ],
   "source": [
    "μ_2008 = mpg[mpg['year'] == 2008].fuel_efficiency.mean()\n",
    "\n",
    "μ_2008"
   ]
  },
  {
   "cell_type": "code",
   "execution_count": 61,
   "id": "e7813690",
   "metadata": {},
   "outputs": [],
   "source": [
    "fuel_1999 = mpg[mpg['year'] == 1999].fuel_efficiency\n",
    "\n",
    "fuel_2008 = mpg[mpg['year'] == 2008].fuel_efficiency"
   ]
  },
  {
   "cell_type": "code",
   "execution_count": 73,
   "id": "f1ed07b7",
   "metadata": {},
   "outputs": [],
   "source": [
    "_, levene_fuel = stats.levene(fuel_1999, fuel_2008)"
   ]
  },
  {
   "cell_type": "code",
   "execution_count": 70,
   "id": "c5c2c921",
   "metadata": {},
   "outputs": [],
   "source": [
    "α = 0.05"
   ]
  },
  {
   "cell_type": "code",
   "execution_count": 71,
   "id": "2def4877",
   "metadata": {},
   "outputs": [
    {
     "data": {
      "text/plain": [
       "False"
      ]
     },
     "execution_count": 71,
     "metadata": {},
     "output_type": "execute_result"
    }
   ],
   "source": [
    "levene_fuel < α"
   ]
  },
  {
   "cell_type": "code",
   "execution_count": null,
   "id": "f1e593a7",
   "metadata": {},
   "outputs": [],
   "source": [
    "# levene_fuel is not less than α. \n",
    "# -- We fail to reject the null hypothesis at this time."
   ]
  },
  {
   "cell_type": "code",
   "execution_count": 76,
   "id": "13693725",
   "metadata": {},
   "outputs": [],
   "source": [
    "_, fuel_ttest = stats.ttest_ind(fuel_1999, fuel_2008)"
   ]
  },
  {
   "cell_type": "code",
   "execution_count": 77,
   "id": "29247ad7",
   "metadata": {},
   "outputs": [
    {
     "data": {
      "text/plain": [
       "False"
      ]
     },
     "execution_count": 77,
     "metadata": {},
     "output_type": "execute_result"
    }
   ],
   "source": [
    "fuel_ttest < α"
   ]
  },
  {
   "cell_type": "code",
   "execution_count": null,
   "id": "4d08c1c8",
   "metadata": {},
   "outputs": [],
   "source": [
    "# fuel_ttest is not less than α.\n",
    "# -- At this time we fail to reject the null hypothesis.\n",
    "# - We conclude there is not a significant difference in \n",
    "# -- fuel-efficiency in cars from 2008 and 1999."
   ]
  },
  {
   "cell_type": "markdown",
   "id": "1b9ac669",
   "metadata": {},
   "source": [
    "##### b. Are compact cars more fuel-efficient than the average car?"
   ]
  },
  {
   "cell_type": "code",
   "execution_count": 86,
   "id": "1abc9b76",
   "metadata": {},
   "outputs": [],
   "source": [
    "compact_car = mpg[mpg['class'] == 'compact'].fuel_efficiency"
   ]
  },
  {
   "cell_type": "code",
   "execution_count": 87,
   "id": "891f1daf",
   "metadata": {},
   "outputs": [],
   "source": [
    "average_car = mpg[mpg['class'] != 'compact'].fuel_efficiency"
   ]
  },
  {
   "cell_type": "code",
   "execution_count": 92,
   "id": "cb41b41c",
   "metadata": {},
   "outputs": [],
   "source": [
    "_, compact_levene = stats.levene(average_car, compact_car)"
   ]
  },
  {
   "cell_type": "code",
   "execution_count": 122,
   "id": "73a1600c",
   "metadata": {},
   "outputs": [
    {
     "data": {
      "text/plain": [
       "True"
      ]
     },
     "execution_count": 122,
     "metadata": {},
     "output_type": "execute_result"
    }
   ],
   "source": [
    "compact_levene < (α/2)"
   ]
  },
  {
   "cell_type": "code",
   "execution_count": null,
   "id": "e807b3cb",
   "metadata": {},
   "outputs": [],
   "source": [
    "# compact_levene is less than α.\n",
    "# We accept the null hypothesis and conclude there is\n",
    "# -- sufficient evidence to support the claim \"compact cars\n",
    "# -- are more fuel efficient than the avg car.\""
   ]
  },
  {
   "cell_type": "markdown",
   "id": "a6cab840",
   "metadata": {},
   "source": [
    "##### c. Do manual cars get better gas mileage than automatic cars?"
   ]
  },
  {
   "cell_type": "code",
   "execution_count": 100,
   "id": "01857893",
   "metadata": {},
   "outputs": [
    {
     "data": {
      "text/plain": [
       "1      False\n",
       "2       True\n",
       "3       True\n",
       "4      False\n",
       "5      False\n",
       "       ...  \n",
       "230    False\n",
       "231     True\n",
       "232    False\n",
       "233     True\n",
       "234    False\n",
       "Name: trans, Length: 234, dtype: bool"
      ]
     },
     "execution_count": 100,
     "metadata": {},
     "output_type": "execute_result"
    }
   ],
   "source": [
    "manual_car = mpg['manual_transmission'] = mpg.trans.str.startswith('manual')\n",
    "\n",
    "manual_car"
   ]
  },
  {
   "cell_type": "code",
   "execution_count": 104,
   "id": "e3135dba",
   "metadata": {},
   "outputs": [],
   "source": [
    "auto = mpg[mpg['manual_transmission'] == True].fuel_efficiency\n",
    "\n",
    "manual = mpg[mpg.manual_transmission == False].fuel_efficiency\n"
   ]
  },
  {
   "cell_type": "code",
   "execution_count": 110,
   "id": "653123a7",
   "metadata": {},
   "outputs": [
    {
     "data": {
      "text/plain": [
       "0.6545276355131857"
      ]
     },
     "execution_count": 110,
     "metadata": {},
     "output_type": "execute_result"
    }
   ],
   "source": [
    "_, manual_levene = stats.levene(manual, auto)\n",
    "manual_levene"
   ]
  },
  {
   "cell_type": "code",
   "execution_count": 111,
   "id": "51a09f9b",
   "metadata": {},
   "outputs": [
    {
     "data": {
      "text/plain": [
       "False"
      ]
     },
     "execution_count": 111,
     "metadata": {},
     "output_type": "execute_result"
    }
   ],
   "source": [
    "manual_levene < α"
   ]
  },
  {
   "cell_type": "code",
   "execution_count": 112,
   "id": "23cf843d",
   "metadata": {},
   "outputs": [],
   "source": [
    "# manual_levene is not less than α.\n",
    "# At this time we fail to reject the null hypothesis\n",
    "# -- and continue with a 2 sample ttest, 1 tail"
   ]
  },
  {
   "cell_type": "code",
   "execution_count": 119,
   "id": "c0af1187",
   "metadata": {},
   "outputs": [
    {
     "data": {
      "text/plain": [
       "7.154374401145685e-06"
      ]
     },
     "execution_count": 119,
     "metadata": {},
     "output_type": "execute_result"
    }
   ],
   "source": [
    "_, manual_ttest = stats.ttest_ind(manual, auto)\n",
    "manual_ttest"
   ]
  },
  {
   "cell_type": "code",
   "execution_count": 123,
   "id": "b8a63a2e",
   "metadata": {},
   "outputs": [
    {
     "data": {
      "text/plain": [
       "True"
      ]
     },
     "execution_count": 123,
     "metadata": {},
     "output_type": "execute_result"
    }
   ],
   "source": [
    "manual_ttest < (α/2)"
   ]
  },
  {
   "cell_type": "code",
   "execution_count": 121,
   "id": "cc7027b3",
   "metadata": {},
   "outputs": [],
   "source": [
    "# manual_ttest is less than α\n",
    "# at this time we accept the null hypothesis and\n",
    "# -- conclude there is not sufficient evidence to support \n",
    "# -- the claim \"manual cars get better gas mileage than automatic cars\"\n"
   ]
  },
  {
   "cell_type": "markdown",
   "id": "cf7c6a40",
   "metadata": {},
   "source": [
    "##### "
   ]
  },
  {
   "cell_type": "markdown",
   "id": "3ed839ab",
   "metadata": {},
   "source": [
    "## Correlation Exercises"
   ]
  },
  {
   "cell_type": "markdown",
   "id": "e3ff4ff5",
   "metadata": {},
   "source": [
    "### 1. Answer with the type of stats test you would use (assume normal distribution):\n",
    "    a. Is there a relationship between the length of your arm and the length of your foot?\n",
    "    b. Do guys and gals quit their jobs at the same rate?\n",
    "    c. Does the length of time of the lecture correlate with a students grade?\n"
   ]
  },
  {
   "cell_type": "markdown",
   "id": "a6fdc91f",
   "metadata": {},
   "source": [
    "##### a. Is there a relationship between the length of your arm and the length of your foot?"
   ]
  },
  {
   "cell_type": "code",
   "execution_count": null,
   "id": "0d5c15c1",
   "metadata": {},
   "outputs": [],
   "source": [
    "# chi2"
   ]
  },
  {
   "cell_type": "markdown",
   "id": "01514873",
   "metadata": {},
   "source": [
    "##### b. Do guys and gals quit their jobs at the same rate?"
   ]
  },
  {
   "cell_type": "code",
   "execution_count": null,
   "id": "23e2a721",
   "metadata": {},
   "outputs": [],
   "source": [
    "# 2 sample t_test, 2 tail"
   ]
  },
  {
   "cell_type": "markdown",
   "id": "2fca4a8a",
   "metadata": {},
   "source": [
    "##### c. Does the length of time of the lecture correlate with a students grade?"
   ]
  },
  {
   "cell_type": "code",
   "execution_count": null,
   "id": "d95fd812",
   "metadata": {},
   "outputs": [],
   "source": [
    "# pearsonr"
   ]
  },
  {
   "cell_type": "markdown",
   "id": "5fb995d9",
   "metadata": {},
   "source": [
    "### 2. Use the telco_churn data.\n",
    "    a. Does tenure correlate with monthly charges?\n",
    "    b. Total charges?\n",
    "    c. What happens if you control for phone and internet service?\n"
   ]
  },
  {
   "cell_type": "code",
   "execution_count": 205,
   "id": "bf74e51d",
   "metadata": {},
   "outputs": [],
   "source": [
    "df = pd.read_csv(r'telco_data.csv')"
   ]
  },
  {
   "cell_type": "code",
   "execution_count": 206,
   "id": "238571a7",
   "metadata": {},
   "outputs": [
    {
     "data": {
      "text/html": [
       "<div>\n",
       "<style scoped>\n",
       "    .dataframe tbody tr th:only-of-type {\n",
       "        vertical-align: middle;\n",
       "    }\n",
       "\n",
       "    .dataframe tbody tr th {\n",
       "        vertical-align: top;\n",
       "    }\n",
       "\n",
       "    .dataframe thead th {\n",
       "        text-align: right;\n",
       "    }\n",
       "</style>\n",
       "<table border=\"1\" class=\"dataframe\">\n",
       "  <thead>\n",
       "    <tr style=\"text-align: right;\">\n",
       "      <th></th>\n",
       "      <th>Add-on Count</th>\n",
       "      <th>Churn</th>\n",
       "      <th>Contract</th>\n",
       "      <th>Customer ID</th>\n",
       "      <th>Dependents</th>\n",
       "      <th>Device Protection</th>\n",
       "      <th>Gender</th>\n",
       "      <th>Internet Service</th>\n",
       "      <th>Multiple Lines</th>\n",
       "      <th>Online Backup</th>\n",
       "      <th>...</th>\n",
       "      <th>Tech Support</th>\n",
       "      <th>with Online Backup</th>\n",
       "      <th>with Online Security</th>\n",
       "      <th>with Streaming Movies</th>\n",
       "      <th>with Streaming TV</th>\n",
       "      <th>with Tech Support</th>\n",
       "      <th>Estimated Tenure(months)</th>\n",
       "      <th>Monthly Charges</th>\n",
       "      <th>Tenure</th>\n",
       "      <th>Total Charges</th>\n",
       "    </tr>\n",
       "  </thead>\n",
       "  <tbody>\n",
       "    <tr>\n",
       "      <th>0</th>\n",
       "      <td>0</td>\n",
       "      <td>No</td>\n",
       "      <td>Month-to-month</td>\n",
       "      <td>7590-VHVEG</td>\n",
       "      <td>None</td>\n",
       "      <td>Device Wiithout Protection</td>\n",
       "      <td>Female</td>\n",
       "      <td>DSL</td>\n",
       "      <td>No phone service</td>\n",
       "      <td>Online Backup</td>\n",
       "      <td>...</td>\n",
       "      <td>Support Not Contacted</td>\n",
       "      <td>0</td>\n",
       "      <td>0</td>\n",
       "      <td>0</td>\n",
       "      <td>0</td>\n",
       "      <td>0</td>\n",
       "      <td>1.0</td>\n",
       "      <td>29.85</td>\n",
       "      <td>1</td>\n",
       "      <td>29.85</td>\n",
       "    </tr>\n",
       "    <tr>\n",
       "      <th>1</th>\n",
       "      <td>0</td>\n",
       "      <td>No</td>\n",
       "      <td>One year</td>\n",
       "      <td>5575-GNVDE</td>\n",
       "      <td>None</td>\n",
       "      <td>Protected Device</td>\n",
       "      <td>Male</td>\n",
       "      <td>DSL</td>\n",
       "      <td>Single Line</td>\n",
       "      <td>Internet With No Backup</td>\n",
       "      <td>...</td>\n",
       "      <td>Support Not Contacted</td>\n",
       "      <td>0</td>\n",
       "      <td>0</td>\n",
       "      <td>0</td>\n",
       "      <td>0</td>\n",
       "      <td>0</td>\n",
       "      <td>33.0</td>\n",
       "      <td>56.95</td>\n",
       "      <td>34</td>\n",
       "      <td>1889.50</td>\n",
       "    </tr>\n",
       "    <tr>\n",
       "      <th>2</th>\n",
       "      <td>0</td>\n",
       "      <td>Yes</td>\n",
       "      <td>Month-to-month</td>\n",
       "      <td>3668-QPYBK</td>\n",
       "      <td>None</td>\n",
       "      <td>Device Wiithout Protection</td>\n",
       "      <td>Male</td>\n",
       "      <td>DSL</td>\n",
       "      <td>Single Line</td>\n",
       "      <td>Online Backup</td>\n",
       "      <td>...</td>\n",
       "      <td>Support Not Contacted</td>\n",
       "      <td>0</td>\n",
       "      <td>0</td>\n",
       "      <td>0</td>\n",
       "      <td>0</td>\n",
       "      <td>0</td>\n",
       "      <td>2.0</td>\n",
       "      <td>53.85</td>\n",
       "      <td>2</td>\n",
       "      <td>108.15</td>\n",
       "    </tr>\n",
       "    <tr>\n",
       "      <th>3</th>\n",
       "      <td>0</td>\n",
       "      <td>No</td>\n",
       "      <td>One year</td>\n",
       "      <td>7795-CFOCW</td>\n",
       "      <td>None</td>\n",
       "      <td>Protected Device</td>\n",
       "      <td>Male</td>\n",
       "      <td>DSL</td>\n",
       "      <td>No phone service</td>\n",
       "      <td>Internet With No Backup</td>\n",
       "      <td>...</td>\n",
       "      <td>Has a Support Ticket</td>\n",
       "      <td>0</td>\n",
       "      <td>0</td>\n",
       "      <td>0</td>\n",
       "      <td>0</td>\n",
       "      <td>0</td>\n",
       "      <td>43.0</td>\n",
       "      <td>42.30</td>\n",
       "      <td>45</td>\n",
       "      <td>1840.75</td>\n",
       "    </tr>\n",
       "    <tr>\n",
       "      <th>4</th>\n",
       "      <td>0</td>\n",
       "      <td>Yes</td>\n",
       "      <td>Month-to-month</td>\n",
       "      <td>9237-HQITU</td>\n",
       "      <td>None</td>\n",
       "      <td>Device Wiithout Protection</td>\n",
       "      <td>Female</td>\n",
       "      <td>Fiber optic</td>\n",
       "      <td>Single Line</td>\n",
       "      <td>Internet With No Backup</td>\n",
       "      <td>...</td>\n",
       "      <td>Support Not Contacted</td>\n",
       "      <td>0</td>\n",
       "      <td>0</td>\n",
       "      <td>0</td>\n",
       "      <td>0</td>\n",
       "      <td>0</td>\n",
       "      <td>2.0</td>\n",
       "      <td>70.70</td>\n",
       "      <td>2</td>\n",
       "      <td>151.65</td>\n",
       "    </tr>\n",
       "    <tr>\n",
       "      <th>...</th>\n",
       "      <td>...</td>\n",
       "      <td>...</td>\n",
       "      <td>...</td>\n",
       "      <td>...</td>\n",
       "      <td>...</td>\n",
       "      <td>...</td>\n",
       "      <td>...</td>\n",
       "      <td>...</td>\n",
       "      <td>...</td>\n",
       "      <td>...</td>\n",
       "      <td>...</td>\n",
       "      <td>...</td>\n",
       "      <td>...</td>\n",
       "      <td>...</td>\n",
       "      <td>...</td>\n",
       "      <td>...</td>\n",
       "      <td>...</td>\n",
       "      <td>...</td>\n",
       "      <td>...</td>\n",
       "      <td>...</td>\n",
       "      <td>...</td>\n",
       "    </tr>\n",
       "    <tr>\n",
       "      <th>7038</th>\n",
       "      <td>0</td>\n",
       "      <td>Yes</td>\n",
       "      <td>Month-to-month</td>\n",
       "      <td>1587-FKLZB</td>\n",
       "      <td>Has Dependants</td>\n",
       "      <td>Protected Device</td>\n",
       "      <td>Male</td>\n",
       "      <td>Fiber optic</td>\n",
       "      <td>Multiple Lines</td>\n",
       "      <td>Internet With No Backup</td>\n",
       "      <td>...</td>\n",
       "      <td>Support Not Contacted</td>\n",
       "      <td>0</td>\n",
       "      <td>0</td>\n",
       "      <td>0</td>\n",
       "      <td>0</td>\n",
       "      <td>0</td>\n",
       "      <td>68.0</td>\n",
       "      <td>99.50</td>\n",
       "      <td>66</td>\n",
       "      <td>6822.15</td>\n",
       "    </tr>\n",
       "    <tr>\n",
       "      <th>7039</th>\n",
       "      <td>0</td>\n",
       "      <td>Yes</td>\n",
       "      <td>Month-to-month</td>\n",
       "      <td>8623-TMRBY</td>\n",
       "      <td>Has Dependants</td>\n",
       "      <td>Protected Device</td>\n",
       "      <td>Male</td>\n",
       "      <td>Fiber optic</td>\n",
       "      <td>Multiple Lines</td>\n",
       "      <td>Online Backup</td>\n",
       "      <td>...</td>\n",
       "      <td>Support Not Contacted</td>\n",
       "      <td>0</td>\n",
       "      <td>0</td>\n",
       "      <td>0</td>\n",
       "      <td>0</td>\n",
       "      <td>0</td>\n",
       "      <td>49.0</td>\n",
       "      <td>84.20</td>\n",
       "      <td>51</td>\n",
       "      <td>4146.05</td>\n",
       "    </tr>\n",
       "    <tr>\n",
       "      <th>7040</th>\n",
       "      <td>0</td>\n",
       "      <td>Yes</td>\n",
       "      <td>One year</td>\n",
       "      <td>2403-BCASL</td>\n",
       "      <td>Has Dependants</td>\n",
       "      <td>Protected Device</td>\n",
       "      <td>Male</td>\n",
       "      <td>Fiber optic</td>\n",
       "      <td>Multiple Lines</td>\n",
       "      <td>Online Backup</td>\n",
       "      <td>...</td>\n",
       "      <td>Has a Support Ticket</td>\n",
       "      <td>0</td>\n",
       "      <td>0</td>\n",
       "      <td>0</td>\n",
       "      <td>0</td>\n",
       "      <td>0</td>\n",
       "      <td>40.0</td>\n",
       "      <td>111.95</td>\n",
       "      <td>41</td>\n",
       "      <td>4534.90</td>\n",
       "    </tr>\n",
       "    <tr>\n",
       "      <th>7041</th>\n",
       "      <td>0</td>\n",
       "      <td>Yes</td>\n",
       "      <td>Month-to-month</td>\n",
       "      <td>5287-QWLKY</td>\n",
       "      <td>Has Dependants</td>\n",
       "      <td>Device Wiithout Protection</td>\n",
       "      <td>Male</td>\n",
       "      <td>Fiber optic</td>\n",
       "      <td>Multiple Lines</td>\n",
       "      <td>Online Backup</td>\n",
       "      <td>...</td>\n",
       "      <td>Support Not Contacted</td>\n",
       "      <td>0</td>\n",
       "      <td>0</td>\n",
       "      <td>0</td>\n",
       "      <td>0</td>\n",
       "      <td>0</td>\n",
       "      <td>71.0</td>\n",
       "      <td>105.10</td>\n",
       "      <td>71</td>\n",
       "      <td>7548.10</td>\n",
       "    </tr>\n",
       "    <tr>\n",
       "      <th>7042</th>\n",
       "      <td>0</td>\n",
       "      <td>Yes</td>\n",
       "      <td>Month-to-month</td>\n",
       "      <td>7641-EUYET</td>\n",
       "      <td>Has Dependants</td>\n",
       "      <td>Protected Device</td>\n",
       "      <td>Male</td>\n",
       "      <td>Fiber optic</td>\n",
       "      <td>Multiple Lines</td>\n",
       "      <td>Online Backup</td>\n",
       "      <td>...</td>\n",
       "      <td>Support Not Contacted</td>\n",
       "      <td>0</td>\n",
       "      <td>0</td>\n",
       "      <td>0</td>\n",
       "      <td>0</td>\n",
       "      <td>0</td>\n",
       "      <td>45.0</td>\n",
       "      <td>100.70</td>\n",
       "      <td>46</td>\n",
       "      <td>4541.20</td>\n",
       "    </tr>\n",
       "  </tbody>\n",
       "</table>\n",
       "<p>7043 rows × 29 columns</p>\n",
       "</div>"
      ],
      "text/plain": [
       "      Add-on Count Churn        Contract Customer ID      Dependents  \\\n",
       "0                0    No  Month-to-month  7590-VHVEG            None   \n",
       "1                0    No        One year  5575-GNVDE            None   \n",
       "2                0   Yes  Month-to-month  3668-QPYBK            None   \n",
       "3                0    No        One year  7795-CFOCW            None   \n",
       "4                0   Yes  Month-to-month  9237-HQITU            None   \n",
       "...            ...   ...             ...         ...             ...   \n",
       "7038             0   Yes  Month-to-month  1587-FKLZB  Has Dependants   \n",
       "7039             0   Yes  Month-to-month  8623-TMRBY  Has Dependants   \n",
       "7040             0   Yes        One year  2403-BCASL  Has Dependants   \n",
       "7041             0   Yes  Month-to-month  5287-QWLKY  Has Dependants   \n",
       "7042             0   Yes  Month-to-month  7641-EUYET  Has Dependants   \n",
       "\n",
       "               Device Protection  Gender Internet Service    Multiple Lines  \\\n",
       "0     Device Wiithout Protection  Female              DSL  No phone service   \n",
       "1               Protected Device    Male              DSL       Single Line   \n",
       "2     Device Wiithout Protection    Male              DSL       Single Line   \n",
       "3               Protected Device    Male              DSL  No phone service   \n",
       "4     Device Wiithout Protection  Female      Fiber optic       Single Line   \n",
       "...                          ...     ...              ...               ...   \n",
       "7038            Protected Device    Male      Fiber optic    Multiple Lines   \n",
       "7039            Protected Device    Male      Fiber optic    Multiple Lines   \n",
       "7040            Protected Device    Male      Fiber optic    Multiple Lines   \n",
       "7041  Device Wiithout Protection    Male      Fiber optic    Multiple Lines   \n",
       "7042            Protected Device    Male      Fiber optic    Multiple Lines   \n",
       "\n",
       "                Online Backup  ...           Tech Support with Online Backup  \\\n",
       "0               Online Backup  ...  Support Not Contacted                  0   \n",
       "1     Internet With No Backup  ...  Support Not Contacted                  0   \n",
       "2               Online Backup  ...  Support Not Contacted                  0   \n",
       "3     Internet With No Backup  ...   Has a Support Ticket                  0   \n",
       "4     Internet With No Backup  ...  Support Not Contacted                  0   \n",
       "...                       ...  ...                    ...                ...   \n",
       "7038  Internet With No Backup  ...  Support Not Contacted                  0   \n",
       "7039            Online Backup  ...  Support Not Contacted                  0   \n",
       "7040            Online Backup  ...   Has a Support Ticket                  0   \n",
       "7041            Online Backup  ...  Support Not Contacted                  0   \n",
       "7042            Online Backup  ...  Support Not Contacted                  0   \n",
       "\n",
       "     with Online Security with Streaming Movies with Streaming TV  \\\n",
       "0                       0                     0                 0   \n",
       "1                       0                     0                 0   \n",
       "2                       0                     0                 0   \n",
       "3                       0                     0                 0   \n",
       "4                       0                     0                 0   \n",
       "...                   ...                   ...               ...   \n",
       "7038                    0                     0                 0   \n",
       "7039                    0                     0                 0   \n",
       "7040                    0                     0                 0   \n",
       "7041                    0                     0                 0   \n",
       "7042                    0                     0                 0   \n",
       "\n",
       "     with Tech Support Estimated Tenure(months) Monthly Charges Tenure  \\\n",
       "0                    0                      1.0           29.85      1   \n",
       "1                    0                     33.0           56.95     34   \n",
       "2                    0                      2.0           53.85      2   \n",
       "3                    0                     43.0           42.30     45   \n",
       "4                    0                      2.0           70.70      2   \n",
       "...                ...                      ...             ...    ...   \n",
       "7038                 0                     68.0           99.50     66   \n",
       "7039                 0                     49.0           84.20     51   \n",
       "7040                 0                     40.0          111.95     41   \n",
       "7041                 0                     71.0          105.10     71   \n",
       "7042                 0                     45.0          100.70     46   \n",
       "\n",
       "     Total Charges  \n",
       "0            29.85  \n",
       "1          1889.50  \n",
       "2           108.15  \n",
       "3          1840.75  \n",
       "4           151.65  \n",
       "...            ...  \n",
       "7038       6822.15  \n",
       "7039       4146.05  \n",
       "7040       4534.90  \n",
       "7041       7548.10  \n",
       "7042       4541.20  \n",
       "\n",
       "[7043 rows x 29 columns]"
      ]
     },
     "execution_count": 206,
     "metadata": {},
     "output_type": "execute_result"
    }
   ],
   "source": [
    "df"
   ]
  },
  {
   "cell_type": "code",
   "execution_count": 207,
   "id": "a7001be0",
   "metadata": {},
   "outputs": [],
   "source": [
    "df.columns = df.columns.str.lower().str.replace(' ', '_')"
   ]
  },
  {
   "cell_type": "code",
   "execution_count": 208,
   "id": "8680db8b",
   "metadata": {},
   "outputs": [
    {
     "data": {
      "text/html": [
       "<div>\n",
       "<style scoped>\n",
       "    .dataframe tbody tr th:only-of-type {\n",
       "        vertical-align: middle;\n",
       "    }\n",
       "\n",
       "    .dataframe tbody tr th {\n",
       "        vertical-align: top;\n",
       "    }\n",
       "\n",
       "    .dataframe thead th {\n",
       "        text-align: right;\n",
       "    }\n",
       "</style>\n",
       "<table border=\"1\" class=\"dataframe\">\n",
       "  <thead>\n",
       "    <tr style=\"text-align: right;\">\n",
       "      <th></th>\n",
       "      <th>add-on_count</th>\n",
       "      <th>churn</th>\n",
       "      <th>contract</th>\n",
       "      <th>customer_id</th>\n",
       "      <th>dependents</th>\n",
       "      <th>device_protection</th>\n",
       "      <th>gender</th>\n",
       "      <th>internet_service</th>\n",
       "      <th>multiple_lines</th>\n",
       "      <th>online_backup</th>\n",
       "      <th>...</th>\n",
       "      <th>tech_support</th>\n",
       "      <th>with_online_backup</th>\n",
       "      <th>with_online_security</th>\n",
       "      <th>with_streaming_movies</th>\n",
       "      <th>with_streaming_tv</th>\n",
       "      <th>with_tech_support</th>\n",
       "      <th>estimated_tenure(months)</th>\n",
       "      <th>monthly_charges</th>\n",
       "      <th>tenure</th>\n",
       "      <th>total_charges</th>\n",
       "    </tr>\n",
       "  </thead>\n",
       "  <tbody>\n",
       "    <tr>\n",
       "      <th>0</th>\n",
       "      <td>0</td>\n",
       "      <td>No</td>\n",
       "      <td>Month-to-month</td>\n",
       "      <td>7590-VHVEG</td>\n",
       "      <td>None</td>\n",
       "      <td>Device Wiithout Protection</td>\n",
       "      <td>Female</td>\n",
       "      <td>DSL</td>\n",
       "      <td>No phone service</td>\n",
       "      <td>Online Backup</td>\n",
       "      <td>...</td>\n",
       "      <td>Support Not Contacted</td>\n",
       "      <td>0</td>\n",
       "      <td>0</td>\n",
       "      <td>0</td>\n",
       "      <td>0</td>\n",
       "      <td>0</td>\n",
       "      <td>1.0</td>\n",
       "      <td>29.85</td>\n",
       "      <td>1</td>\n",
       "      <td>29.85</td>\n",
       "    </tr>\n",
       "    <tr>\n",
       "      <th>1</th>\n",
       "      <td>0</td>\n",
       "      <td>No</td>\n",
       "      <td>One year</td>\n",
       "      <td>5575-GNVDE</td>\n",
       "      <td>None</td>\n",
       "      <td>Protected Device</td>\n",
       "      <td>Male</td>\n",
       "      <td>DSL</td>\n",
       "      <td>Single Line</td>\n",
       "      <td>Internet With No Backup</td>\n",
       "      <td>...</td>\n",
       "      <td>Support Not Contacted</td>\n",
       "      <td>0</td>\n",
       "      <td>0</td>\n",
       "      <td>0</td>\n",
       "      <td>0</td>\n",
       "      <td>0</td>\n",
       "      <td>33.0</td>\n",
       "      <td>56.95</td>\n",
       "      <td>34</td>\n",
       "      <td>1889.50</td>\n",
       "    </tr>\n",
       "    <tr>\n",
       "      <th>2</th>\n",
       "      <td>0</td>\n",
       "      <td>Yes</td>\n",
       "      <td>Month-to-month</td>\n",
       "      <td>3668-QPYBK</td>\n",
       "      <td>None</td>\n",
       "      <td>Device Wiithout Protection</td>\n",
       "      <td>Male</td>\n",
       "      <td>DSL</td>\n",
       "      <td>Single Line</td>\n",
       "      <td>Online Backup</td>\n",
       "      <td>...</td>\n",
       "      <td>Support Not Contacted</td>\n",
       "      <td>0</td>\n",
       "      <td>0</td>\n",
       "      <td>0</td>\n",
       "      <td>0</td>\n",
       "      <td>0</td>\n",
       "      <td>2.0</td>\n",
       "      <td>53.85</td>\n",
       "      <td>2</td>\n",
       "      <td>108.15</td>\n",
       "    </tr>\n",
       "    <tr>\n",
       "      <th>3</th>\n",
       "      <td>0</td>\n",
       "      <td>No</td>\n",
       "      <td>One year</td>\n",
       "      <td>7795-CFOCW</td>\n",
       "      <td>None</td>\n",
       "      <td>Protected Device</td>\n",
       "      <td>Male</td>\n",
       "      <td>DSL</td>\n",
       "      <td>No phone service</td>\n",
       "      <td>Internet With No Backup</td>\n",
       "      <td>...</td>\n",
       "      <td>Has a Support Ticket</td>\n",
       "      <td>0</td>\n",
       "      <td>0</td>\n",
       "      <td>0</td>\n",
       "      <td>0</td>\n",
       "      <td>0</td>\n",
       "      <td>43.0</td>\n",
       "      <td>42.30</td>\n",
       "      <td>45</td>\n",
       "      <td>1840.75</td>\n",
       "    </tr>\n",
       "    <tr>\n",
       "      <th>4</th>\n",
       "      <td>0</td>\n",
       "      <td>Yes</td>\n",
       "      <td>Month-to-month</td>\n",
       "      <td>9237-HQITU</td>\n",
       "      <td>None</td>\n",
       "      <td>Device Wiithout Protection</td>\n",
       "      <td>Female</td>\n",
       "      <td>Fiber optic</td>\n",
       "      <td>Single Line</td>\n",
       "      <td>Internet With No Backup</td>\n",
       "      <td>...</td>\n",
       "      <td>Support Not Contacted</td>\n",
       "      <td>0</td>\n",
       "      <td>0</td>\n",
       "      <td>0</td>\n",
       "      <td>0</td>\n",
       "      <td>0</td>\n",
       "      <td>2.0</td>\n",
       "      <td>70.70</td>\n",
       "      <td>2</td>\n",
       "      <td>151.65</td>\n",
       "    </tr>\n",
       "    <tr>\n",
       "      <th>...</th>\n",
       "      <td>...</td>\n",
       "      <td>...</td>\n",
       "      <td>...</td>\n",
       "      <td>...</td>\n",
       "      <td>...</td>\n",
       "      <td>...</td>\n",
       "      <td>...</td>\n",
       "      <td>...</td>\n",
       "      <td>...</td>\n",
       "      <td>...</td>\n",
       "      <td>...</td>\n",
       "      <td>...</td>\n",
       "      <td>...</td>\n",
       "      <td>...</td>\n",
       "      <td>...</td>\n",
       "      <td>...</td>\n",
       "      <td>...</td>\n",
       "      <td>...</td>\n",
       "      <td>...</td>\n",
       "      <td>...</td>\n",
       "      <td>...</td>\n",
       "    </tr>\n",
       "    <tr>\n",
       "      <th>7038</th>\n",
       "      <td>0</td>\n",
       "      <td>Yes</td>\n",
       "      <td>Month-to-month</td>\n",
       "      <td>1587-FKLZB</td>\n",
       "      <td>Has Dependants</td>\n",
       "      <td>Protected Device</td>\n",
       "      <td>Male</td>\n",
       "      <td>Fiber optic</td>\n",
       "      <td>Multiple Lines</td>\n",
       "      <td>Internet With No Backup</td>\n",
       "      <td>...</td>\n",
       "      <td>Support Not Contacted</td>\n",
       "      <td>0</td>\n",
       "      <td>0</td>\n",
       "      <td>0</td>\n",
       "      <td>0</td>\n",
       "      <td>0</td>\n",
       "      <td>68.0</td>\n",
       "      <td>99.50</td>\n",
       "      <td>66</td>\n",
       "      <td>6822.15</td>\n",
       "    </tr>\n",
       "    <tr>\n",
       "      <th>7039</th>\n",
       "      <td>0</td>\n",
       "      <td>Yes</td>\n",
       "      <td>Month-to-month</td>\n",
       "      <td>8623-TMRBY</td>\n",
       "      <td>Has Dependants</td>\n",
       "      <td>Protected Device</td>\n",
       "      <td>Male</td>\n",
       "      <td>Fiber optic</td>\n",
       "      <td>Multiple Lines</td>\n",
       "      <td>Online Backup</td>\n",
       "      <td>...</td>\n",
       "      <td>Support Not Contacted</td>\n",
       "      <td>0</td>\n",
       "      <td>0</td>\n",
       "      <td>0</td>\n",
       "      <td>0</td>\n",
       "      <td>0</td>\n",
       "      <td>49.0</td>\n",
       "      <td>84.20</td>\n",
       "      <td>51</td>\n",
       "      <td>4146.05</td>\n",
       "    </tr>\n",
       "    <tr>\n",
       "      <th>7040</th>\n",
       "      <td>0</td>\n",
       "      <td>Yes</td>\n",
       "      <td>One year</td>\n",
       "      <td>2403-BCASL</td>\n",
       "      <td>Has Dependants</td>\n",
       "      <td>Protected Device</td>\n",
       "      <td>Male</td>\n",
       "      <td>Fiber optic</td>\n",
       "      <td>Multiple Lines</td>\n",
       "      <td>Online Backup</td>\n",
       "      <td>...</td>\n",
       "      <td>Has a Support Ticket</td>\n",
       "      <td>0</td>\n",
       "      <td>0</td>\n",
       "      <td>0</td>\n",
       "      <td>0</td>\n",
       "      <td>0</td>\n",
       "      <td>40.0</td>\n",
       "      <td>111.95</td>\n",
       "      <td>41</td>\n",
       "      <td>4534.90</td>\n",
       "    </tr>\n",
       "    <tr>\n",
       "      <th>7041</th>\n",
       "      <td>0</td>\n",
       "      <td>Yes</td>\n",
       "      <td>Month-to-month</td>\n",
       "      <td>5287-QWLKY</td>\n",
       "      <td>Has Dependants</td>\n",
       "      <td>Device Wiithout Protection</td>\n",
       "      <td>Male</td>\n",
       "      <td>Fiber optic</td>\n",
       "      <td>Multiple Lines</td>\n",
       "      <td>Online Backup</td>\n",
       "      <td>...</td>\n",
       "      <td>Support Not Contacted</td>\n",
       "      <td>0</td>\n",
       "      <td>0</td>\n",
       "      <td>0</td>\n",
       "      <td>0</td>\n",
       "      <td>0</td>\n",
       "      <td>71.0</td>\n",
       "      <td>105.10</td>\n",
       "      <td>71</td>\n",
       "      <td>7548.10</td>\n",
       "    </tr>\n",
       "    <tr>\n",
       "      <th>7042</th>\n",
       "      <td>0</td>\n",
       "      <td>Yes</td>\n",
       "      <td>Month-to-month</td>\n",
       "      <td>7641-EUYET</td>\n",
       "      <td>Has Dependants</td>\n",
       "      <td>Protected Device</td>\n",
       "      <td>Male</td>\n",
       "      <td>Fiber optic</td>\n",
       "      <td>Multiple Lines</td>\n",
       "      <td>Online Backup</td>\n",
       "      <td>...</td>\n",
       "      <td>Support Not Contacted</td>\n",
       "      <td>0</td>\n",
       "      <td>0</td>\n",
       "      <td>0</td>\n",
       "      <td>0</td>\n",
       "      <td>0</td>\n",
       "      <td>45.0</td>\n",
       "      <td>100.70</td>\n",
       "      <td>46</td>\n",
       "      <td>4541.20</td>\n",
       "    </tr>\n",
       "  </tbody>\n",
       "</table>\n",
       "<p>7043 rows × 29 columns</p>\n",
       "</div>"
      ],
      "text/plain": [
       "      add-on_count churn        contract customer_id      dependents  \\\n",
       "0                0    No  Month-to-month  7590-VHVEG            None   \n",
       "1                0    No        One year  5575-GNVDE            None   \n",
       "2                0   Yes  Month-to-month  3668-QPYBK            None   \n",
       "3                0    No        One year  7795-CFOCW            None   \n",
       "4                0   Yes  Month-to-month  9237-HQITU            None   \n",
       "...            ...   ...             ...         ...             ...   \n",
       "7038             0   Yes  Month-to-month  1587-FKLZB  Has Dependants   \n",
       "7039             0   Yes  Month-to-month  8623-TMRBY  Has Dependants   \n",
       "7040             0   Yes        One year  2403-BCASL  Has Dependants   \n",
       "7041             0   Yes  Month-to-month  5287-QWLKY  Has Dependants   \n",
       "7042             0   Yes  Month-to-month  7641-EUYET  Has Dependants   \n",
       "\n",
       "               device_protection  gender internet_service    multiple_lines  \\\n",
       "0     Device Wiithout Protection  Female              DSL  No phone service   \n",
       "1               Protected Device    Male              DSL       Single Line   \n",
       "2     Device Wiithout Protection    Male              DSL       Single Line   \n",
       "3               Protected Device    Male              DSL  No phone service   \n",
       "4     Device Wiithout Protection  Female      Fiber optic       Single Line   \n",
       "...                          ...     ...              ...               ...   \n",
       "7038            Protected Device    Male      Fiber optic    Multiple Lines   \n",
       "7039            Protected Device    Male      Fiber optic    Multiple Lines   \n",
       "7040            Protected Device    Male      Fiber optic    Multiple Lines   \n",
       "7041  Device Wiithout Protection    Male      Fiber optic    Multiple Lines   \n",
       "7042            Protected Device    Male      Fiber optic    Multiple Lines   \n",
       "\n",
       "                online_backup  ...           tech_support with_online_backup  \\\n",
       "0               Online Backup  ...  Support Not Contacted                  0   \n",
       "1     Internet With No Backup  ...  Support Not Contacted                  0   \n",
       "2               Online Backup  ...  Support Not Contacted                  0   \n",
       "3     Internet With No Backup  ...   Has a Support Ticket                  0   \n",
       "4     Internet With No Backup  ...  Support Not Contacted                  0   \n",
       "...                       ...  ...                    ...                ...   \n",
       "7038  Internet With No Backup  ...  Support Not Contacted                  0   \n",
       "7039            Online Backup  ...  Support Not Contacted                  0   \n",
       "7040            Online Backup  ...   Has a Support Ticket                  0   \n",
       "7041            Online Backup  ...  Support Not Contacted                  0   \n",
       "7042            Online Backup  ...  Support Not Contacted                  0   \n",
       "\n",
       "     with_online_security with_streaming_movies with_streaming_tv  \\\n",
       "0                       0                     0                 0   \n",
       "1                       0                     0                 0   \n",
       "2                       0                     0                 0   \n",
       "3                       0                     0                 0   \n",
       "4                       0                     0                 0   \n",
       "...                   ...                   ...               ...   \n",
       "7038                    0                     0                 0   \n",
       "7039                    0                     0                 0   \n",
       "7040                    0                     0                 0   \n",
       "7041                    0                     0                 0   \n",
       "7042                    0                     0                 0   \n",
       "\n",
       "     with_tech_support estimated_tenure(months) monthly_charges tenure  \\\n",
       "0                    0                      1.0           29.85      1   \n",
       "1                    0                     33.0           56.95     34   \n",
       "2                    0                      2.0           53.85      2   \n",
       "3                    0                     43.0           42.30     45   \n",
       "4                    0                      2.0           70.70      2   \n",
       "...                ...                      ...             ...    ...   \n",
       "7038                 0                     68.0           99.50     66   \n",
       "7039                 0                     49.0           84.20     51   \n",
       "7040                 0                     40.0          111.95     41   \n",
       "7041                 0                     71.0          105.10     71   \n",
       "7042                 0                     45.0          100.70     46   \n",
       "\n",
       "     total_charges  \n",
       "0            29.85  \n",
       "1          1889.50  \n",
       "2           108.15  \n",
       "3          1840.75  \n",
       "4           151.65  \n",
       "...            ...  \n",
       "7038       6822.15  \n",
       "7039       4146.05  \n",
       "7040       4534.90  \n",
       "7041       7548.10  \n",
       "7042       4541.20  \n",
       "\n",
       "[7043 rows x 29 columns]"
      ]
     },
     "execution_count": 208,
     "metadata": {},
     "output_type": "execute_result"
    }
   ],
   "source": [
    "df"
   ]
  },
  {
   "cell_type": "markdown",
   "id": "ff269d05",
   "metadata": {},
   "source": [
    "##### a. Does tenure correlate with monthly charges?"
   ]
  },
  {
   "cell_type": "markdown",
   "id": "632ba28f",
   "metadata": {},
   "source": [
    "H$_0$: There is no linear correlation between tenure and monthly charges  \n",
    "\n",
    "H$_a$: This is a linear correlation between tenure and monthly charges"
   ]
  },
  {
   "cell_type": "code",
   "execution_count": 209,
   "id": "cd91bc5b",
   "metadata": {},
   "outputs": [],
   "source": [
    "tenure = df.tenure\n",
    "monthly_charges = df.monthly_charges"
   ]
  },
  {
   "cell_type": "code",
   "execution_count": 210,
   "id": "df587fe3",
   "metadata": {},
   "outputs": [],
   "source": [
    "r, p = stats.pearsonr(tenure, monthly_charges)"
   ]
  },
  {
   "cell_type": "code",
   "execution_count": 211,
   "id": "c77ecc60",
   "metadata": {},
   "outputs": [],
   "source": [
    "α = 0.05"
   ]
  },
  {
   "cell_type": "code",
   "execution_count": 212,
   "id": "a962dc0a",
   "metadata": {},
   "outputs": [
    {
     "name": "stdout",
     "output_type": "stream",
     "text": [
      "We reject the null hypothesis. With p value: 4.094044991484879e-99, there is enough evidence to support a linear relationship between tenure and monthly charges.\n"
     ]
    }
   ],
   "source": [
    "if p < α:\n",
    "    print(f'We reject the null hypothesis. With p value: {p}, there is enough evidence to support a linear relationship between tenure and monthly charges.')\n",
    "else:\n",
    "    print(f'We fail to reject the null hypothesis. With p value: {p}, this is not enough evidence to support a linear relationship between tenure and monthly charges')"
   ]
  },
  {
   "cell_type": "markdown",
   "id": "756fa759",
   "metadata": {},
   "source": [
    "##### b. Total charges?"
   ]
  },
  {
   "cell_type": "code",
   "execution_count": 219,
   "id": "7fc041d0",
   "metadata": {},
   "outputs": [],
   "source": [
    "df.total_charges = pd.to_numeric(df.total_charges)\n",
    "\n",
    "total_charges = df.total_charges"
   ]
  },
  {
   "cell_type": "code",
   "execution_count": 220,
   "id": "4f097998",
   "metadata": {},
   "outputs": [
    {
     "name": "stdout",
     "output_type": "stream",
     "text": [
      "We reject the null hypothesis. With p value: 0.0, there is enough evidence to support a linear relationship between tenure and total charges.\n"
     ]
    }
   ],
   "source": [
    "r, p = stats.pearsonr(tenure, total_charges)\n",
    "\n",
    "α = 0.05\n",
    "\n",
    "if p < α:\n",
    "    print(f'We reject the null hypothesis. With p value: {p}, there is enough evidence to support a linear relationship between tenure and total charges.')\n",
    "else:\n",
    "    print(f'We fail to reject the null hypothesis. With p value: {p}, this is not enough evidence to support a linear relationship between tenure and total charges')"
   ]
  },
  {
   "cell_type": "code",
   "execution_count": 215,
   "id": "dc0d8ad1",
   "metadata": {},
   "outputs": [
    {
     "data": {
      "text/plain": [
       "True"
      ]
     },
     "execution_count": 215,
     "metadata": {},
     "output_type": "execute_result"
    }
   ],
   "source": [
    "# script returns error \"array must not contain infs or NaNs\"\n",
    "# check for nan\n",
    "\n",
    "np.isnan(df.total_charges).any()"
   ]
  },
  {
   "cell_type": "code",
   "execution_count": 216,
   "id": "ef1e4eb0",
   "metadata": {},
   "outputs": [
    {
     "data": {
      "text/plain": [
       "False"
      ]
     },
     "execution_count": 216,
     "metadata": {},
     "output_type": "execute_result"
    }
   ],
   "source": [
    "# check for infs\n",
    "np.isinf(df.total_charges).any()"
   ]
  },
  {
   "cell_type": "code",
   "execution_count": 217,
   "id": "d8ef85dd",
   "metadata": {},
   "outputs": [],
   "source": [
    "# convert nan to number\n",
    "df.total_charges = np.nan_to_num(df.total_charges)"
   ]
  },
  {
   "cell_type": "markdown",
   "id": "46fe5536",
   "metadata": {},
   "source": [
    "##### c. What happens if you control for phone and internet service?"
   ]
  },
  {
   "cell_type": "code",
   "execution_count": 33,
   "id": "74d5a0d3",
   "metadata": {},
   "outputs": [],
   "source": [
    "# change data to be all lowercase and replace spaces with underscores\n",
    "\n",
    "df.internet_service = df.internet_service.str.lower().str.replace(' ', '_')\n",
    "df.multiple_lines = df.multiple_lines.str.lower().str.replace(' ', '_')"
   ]
  },
  {
   "cell_type": "code",
   "execution_count": 35,
   "id": "0851476d",
   "metadata": {},
   "outputs": [
    {
     "data": {
      "text/plain": [
       "array(['dsl', 'fiber_optic', 'no'], dtype=object)"
      ]
     },
     "execution_count": 35,
     "metadata": {},
     "output_type": "execute_result"
    }
   ],
   "source": [
    "# unique internet service values\n",
    "df.internet_service.unique()"
   ]
  },
  {
   "cell_type": "code",
   "execution_count": 37,
   "id": "8166f037",
   "metadata": {},
   "outputs": [
    {
     "data": {
      "text/plain": [
       "array(['no_phone_service', 'single_line', 'multiple_lines'], dtype=object)"
      ]
     },
     "execution_count": 37,
     "metadata": {},
     "output_type": "execute_result"
    }
   ],
   "source": [
    "# unique phone (multiple lines) values\n",
    "df.multiple_lines.unique()"
   ]
  },
  {
   "cell_type": "code",
   "execution_count": 104,
   "id": "63edd707",
   "metadata": {},
   "outputs": [],
   "source": [
    "# list all internet services, make subset of data callable\n",
    "dsl = df[df['internet_service'] == 'dsl']\n",
    "fo = df[df['internet_service'] == 'fiber_optic']\n",
    "none = df[df['internet_service'] == 'no']\n",
    "\n",
    "# list all phone options, make subset of data callable \n",
    "no_phone = df[df['multiple_lines'] == 'no_phone_service']\n",
    "single = df[df['multiple_lines'] == 'single_line']\n",
    "multiple = df[df['multiple_lines'] == 'multiple_lines']"
   ]
  },
  {
   "cell_type": "code",
   "execution_count": null,
   "id": "acae3f4b",
   "metadata": {},
   "outputs": [],
   "source": [
    "if p < α:\n",
    "    print(f'We reject the null hypothesis. With p value: {p}, there is enough evidence to support a linear relationship between tenure and total charges.')\n",
    "else:\n",
    "    print(f'We fail to reject the null hypothesis. With p value: {p}, this is not enough evidence to support a linear relationship between tenure and total charges')"
   ]
  },
  {
   "cell_type": "markdown",
   "id": "8fb955a7",
   "metadata": {},
   "source": [
    "##### dsl, no_phone\n",
    "H$_0$: There is no linear correlation between tenure and monthly charges for customers who have internet_service: dsl, and no phone service\n",
    "\n",
    "H$_a$: This is a linear correlation between tenure and monthly charges for customers who have internet_service: dsl, and no phone service"
   ]
  },
  {
   "cell_type": "code",
   "execution_count": 145,
   "id": "2ca1cc58",
   "metadata": {},
   "outputs": [],
   "source": [
    "# dsl_no_phone = df[(df['internet_service'] == 'dsl') & (df['multiple_lines'] == 'no_phone_service')]\n",
    "\n",
    "tenure = df.tenure[(df['internet_service'] == 'dsl') & (df['multiple_lines'] == 'no_phone_service')]\n",
    "monthly_charges = df.monthly_charges[(df['internet_service'] == 'dsl') & (df['multiple_lines'] == 'no_phone_service')]"
   ]
  },
  {
   "cell_type": "code",
   "execution_count": 146,
   "id": "f390fd89",
   "metadata": {},
   "outputs": [
    {
     "data": {
      "text/plain": [
       "(0.5857597986661374, 4.6033703473404816e-64)"
      ]
     },
     "execution_count": 146,
     "metadata": {},
     "output_type": "execute_result"
    }
   ],
   "source": [
    "r, p = stats.pearsonr(tenure, monthly_charges)\n",
    "\n",
    "r, p"
   ]
  },
  {
   "cell_type": "code",
   "execution_count": 147,
   "id": "a7a698bc",
   "metadata": {},
   "outputs": [
    {
     "name": "stdout",
     "output_type": "stream",
     "text": [
      "We reject the null hypothesis. With p value: 4.6033703473404816e-64, there is enough evidence to support a linear relationship between tenure and total charges for customers who have internet_service: dsl, and no phone service.\n"
     ]
    },
    {
     "data": {
      "text/plain": [
       "True"
      ]
     },
     "execution_count": 147,
     "metadata": {},
     "output_type": "execute_result"
    }
   ],
   "source": [
    "if p < α:\n",
    "    print(f'We reject the null hypothesis. With p value: {p}, there is enough evidence to support a linear relationship between tenure and total charges for customers who have internet_service: dsl, and no phone service.')\n",
    "else:\n",
    "    print(f'We fail to reject the null hypothesis. With p value: {p}, this is not enough evidence to support a linear relationship between tenure and total charges for customers who have internet_service: dsl, and no phone service')\n",
    "\n",
    "p < α"
   ]
  },
  {
   "cell_type": "markdown",
   "id": "c174aec0",
   "metadata": {},
   "source": [
    "##### dsl, single_line\n",
    "H$_0$: There is no linear correlation between tenure and monthly charges for customers who have internet_service: dsl, and a single phone line.\n",
    "\n",
    "H$_a$: This is a linear correlation between tenure and monthly charges for customers who have internet_service: dsl, and a single phone line."
   ]
  },
  {
   "cell_type": "code",
   "execution_count": 148,
   "id": "ecbd8d55",
   "metadata": {},
   "outputs": [],
   "source": [
    "# dsl_single = df[(df['internet_service'] == 'dsl') & (df['multiple_lines'] == 'single_line')]\n",
    "\n",
    "tenure = df.tenure[(df['internet_service'] == 'dsl') & (df['multiple_lines'] == 'single_line')]\n",
    "monthly_charges = df.monthly_charges[(df['internet_service'] == 'dsl') & (df['multiple_lines'] == 'single_line')]"
   ]
  },
  {
   "cell_type": "code",
   "execution_count": 149,
   "id": "554a622a",
   "metadata": {},
   "outputs": [
    {
     "data": {
      "text/plain": [
       "(0.5587305304603047, 4.398900970658385e-87)"
      ]
     },
     "execution_count": 149,
     "metadata": {},
     "output_type": "execute_result"
    }
   ],
   "source": [
    "r, p = stats.pearsonr(tenure, monthly_charges)\n",
    "\n",
    "r, p"
   ]
  },
  {
   "cell_type": "code",
   "execution_count": 150,
   "id": "88bb39d2",
   "metadata": {},
   "outputs": [
    {
     "name": "stdout",
     "output_type": "stream",
     "text": [
      "We reject the null hypothesis. With p value: 4.398900970658385e-87, there is enough evidence to support a linear relationship between tenure and total charges for customers who have internet_service: dsl, and a single phone line.\n"
     ]
    },
    {
     "data": {
      "text/plain": [
       "True"
      ]
     },
     "execution_count": 150,
     "metadata": {},
     "output_type": "execute_result"
    }
   ],
   "source": [
    "if p < α:\n",
    "    print(f'We reject the null hypothesis. With p value: {p}, there is enough evidence to support a linear relationship between tenure and total charges for customers who have internet_service: dsl, and a single phone line.')\n",
    "else:\n",
    "    print(f'We fail to reject the null hypothesis. With p value: {p}, this is not enough evidence to support a linear relationship between tenure and total charges for customers who have internet_service: dsl, and a single phone line')\n",
    "\n",
    "p < α"
   ]
  },
  {
   "cell_type": "markdown",
   "id": "f345cdb4",
   "metadata": {},
   "source": [
    "##### dsl, multiple_lines\n",
    "H$_0$: There is no linear correlation between tenure and monthly charges for customers who have internet_service: dsl, and multiple phone lines.\n",
    "\n",
    "H$_a$: This is a linear correlation between tenure and monthly charges for customers who have internet_service: dsl, and multiple phone lines."
   ]
  },
  {
   "cell_type": "code",
   "execution_count": 152,
   "id": "f6b122f7",
   "metadata": {},
   "outputs": [],
   "source": [
    "# dsl_multiple = df[(df['internet_service'] == 'dsl') & (df['multiple_lines'] == 'multiple_lines')]\n",
    "\n",
    "tenure = df.tenure[(df['internet_service'] == 'dsl') & (df['multiple_lines'] == 'multiple_lines')]\n",
    "monthly_charges = df.monthly_charges[(df['internet_service'] == 'dsl') & (df['multiple_lines'] == 'multiple_lines')]\n"
   ]
  },
  {
   "cell_type": "code",
   "execution_count": 153,
   "id": "a7389031",
   "metadata": {},
   "outputs": [
    {
     "data": {
      "text/plain": [
       "(0.607584428481035, 5.894496964870049e-71)"
      ]
     },
     "execution_count": 153,
     "metadata": {},
     "output_type": "execute_result"
    }
   ],
   "source": [
    "r, p = stats.pearsonr(tenure, monthly_charges)\n",
    "\n",
    "r, p"
   ]
  },
  {
   "cell_type": "code",
   "execution_count": 154,
   "id": "660391a7",
   "metadata": {},
   "outputs": [
    {
     "name": "stdout",
     "output_type": "stream",
     "text": [
      "We reject the null hypothesis. With p value: 5.894496964870049e-71, there is enough evidence to support a linear relationship between tenure and total charges for customers who have internet_service: dsl, and multiple phone lines.\n"
     ]
    },
    {
     "data": {
      "text/plain": [
       "True"
      ]
     },
     "execution_count": 154,
     "metadata": {},
     "output_type": "execute_result"
    }
   ],
   "source": [
    "if p < α:\n",
    "    print(f'We reject the null hypothesis. With p value: {p}, there is enough evidence to support a linear relationship between tenure and total charges for customers who have internet_service: dsl, and multiple phone lines.')\n",
    "else:\n",
    "    print(f'We fail to reject the null hypothesis. With p value: {p}, this is not enough evidence to support a linear relationship between tenure and total charges for customers who have internet_service: dsl, and multiple phone lines')\n",
    "\n",
    "p < α"
   ]
  },
  {
   "cell_type": "code",
   "execution_count": 123,
   "id": "d297838b",
   "metadata": {},
   "outputs": [],
   "source": [
    "# empty dataset\n",
    "fo_no_phone = df[(df['internet_service'] == 'fiber_optic') & (df['multiple_lines'] == 'no_phone_service')]"
   ]
  },
  {
   "cell_type": "markdown",
   "id": "85c7a433",
   "metadata": {},
   "source": [
    "##### fiber_optic, single_line\n",
    "H$_0$: There is no linear correlation between tenure and monthly charges for customers who have internet_service: fiber_optic, and a single phone line.\n",
    "\n",
    "H$_a$: This is a linear correlation between tenure and monthly charges for customers who have internet_service: fiber_optic, and a single phone line."
   ]
  },
  {
   "cell_type": "code",
   "execution_count": 155,
   "id": "727860e8",
   "metadata": {},
   "outputs": [],
   "source": [
    "# fo_single = df[(df['internet_service'] == 'fiber_optic') & (df['multiple_lines'] == 'single_line')]"
   ]
  },
  {
   "cell_type": "code",
   "execution_count": 156,
   "id": "1f9ec094",
   "metadata": {},
   "outputs": [],
   "source": [
    "tenure = df.tenure[(df['internet_service'] == 'fiber_optic') & (df['multiple_lines'] == 'single_line')]\n",
    "monthly_charges = df.monthly_charges[(df['internet_service'] == 'fiber_optic') & (df['multiple_lines'] == 'single_line')]"
   ]
  },
  {
   "cell_type": "code",
   "execution_count": 157,
   "id": "3681b9b2",
   "metadata": {},
   "outputs": [
    {
     "data": {
      "text/plain": [
       "(0.5289057353743459, 1.8810358845614173e-84)"
      ]
     },
     "execution_count": 157,
     "metadata": {},
     "output_type": "execute_result"
    }
   ],
   "source": [
    "r, p = stats.pearsonr(tenure, monthly_charges)\n",
    "\n",
    "r, p"
   ]
  },
  {
   "cell_type": "code",
   "execution_count": 158,
   "id": "21a01003",
   "metadata": {},
   "outputs": [
    {
     "name": "stdout",
     "output_type": "stream",
     "text": [
      "We reject the null hypothesis. With p value: 1.8810358845614173e-84, there is enough evidence to support a linear relationship between tenure and total charges for customers who have internet_service: fiber_optic, and a single phone line.\n"
     ]
    },
    {
     "data": {
      "text/plain": [
       "True"
      ]
     },
     "execution_count": 158,
     "metadata": {},
     "output_type": "execute_result"
    }
   ],
   "source": [
    "if p < α:\n",
    "    print(f'We reject the null hypothesis. With p value: {p}, there is enough evidence to support a linear relationship between tenure and total charges for customers who have internet_service: fiber_optic, and a single phone line.')\n",
    "else:\n",
    "    print(f'We fail to reject the null hypothesis. With p value: {p}, this is not enough evidence to support a linear relationship between tenure and total charges for customers who have internet_service: fiber_optic, and a single phone line')\n",
    "\n",
    "\n",
    "p < α"
   ]
  },
  {
   "cell_type": "markdown",
   "id": "0daee234",
   "metadata": {},
   "source": [
    "##### fiber_optic, multiple_lines\n",
    "H$_0$: There is no linear correlation between tenure and monthly charges for customers who have internet_service: fiber_optic, and a single phone line.\n",
    "\n",
    "H$_a$: This is a linear correlation between tenure and monthly charges for customers who have internet_service: fiber_optic, and a single phone line."
   ]
  },
  {
   "cell_type": "code",
   "execution_count": 159,
   "id": "5d8dcae8",
   "metadata": {},
   "outputs": [],
   "source": [
    "# fo_multiple = dsl_multiple = df[(df['internet_service'] == 'fiber_optic') & (df['multiple_lines'] == 'multiple_lines')]\n",
    "\n",
    "tenure = df.tenure[(df['internet_service'] == 'fiber_optic') & (df['multiple_lines'] == 'multiple_lines')]\n",
    "monthly_charges = df.monthly_charges[(df['internet_service'] == 'fiber_optic') & (df['multiple_lines'] == 'multiple_lines')]"
   ]
  },
  {
   "cell_type": "code",
   "execution_count": 160,
   "id": "75ee2dba",
   "metadata": {},
   "outputs": [
    {
     "data": {
      "text/plain": [
       "(0.5732123770077513, 1.0835682551205681e-169)"
      ]
     },
     "execution_count": 160,
     "metadata": {},
     "output_type": "execute_result"
    }
   ],
   "source": [
    "r, p = stats.pearsonr(tenure, monthly_charges)\n",
    "\n",
    "r, p"
   ]
  },
  {
   "cell_type": "code",
   "execution_count": 162,
   "id": "e6a55163",
   "metadata": {},
   "outputs": [
    {
     "name": "stdout",
     "output_type": "stream",
     "text": [
      "We reject the null hypothesis. With p value: 1.0835682551205681e-169, there is enough evidence to support a linear relationship between tenure and total charges for customers who have internet_service: fiber_optic, and multiple phone lines.\n"
     ]
    },
    {
     "data": {
      "text/plain": [
       "True"
      ]
     },
     "execution_count": 162,
     "metadata": {},
     "output_type": "execute_result"
    }
   ],
   "source": [
    "if p < α:\n",
    "    print(f'We reject the null hypothesis. With p value: {p}, there is enough evidence to support a linear relationship between tenure and total charges for customers who have internet_service: fiber_optic, and multiple phone lines.')\n",
    "else:\n",
    "    print(f'We fail to reject the null hypothesis. With p value: {p}, this is not enough evidence to support a linear relationship between tenure and total charges for customers who have internet_service: fiber_optic, and multiple phone lines')\n",
    "\n",
    "p < α"
   ]
  },
  {
   "cell_type": "markdown",
   "id": "45ab78d2",
   "metadata": {},
   "source": [
    "##### no internet, no phone\n",
    "H$_0$: There is no linear correlation between tenure and monthly charges for customers who have internet_service: none, and no phone service.\n",
    "\n",
    "H$_a$: This is a linear correlation between tenure and monthly charges for customers who have internet_service: none, and no phone service."
   ]
  },
  {
   "cell_type": "code",
   "execution_count": 134,
   "id": "7ad29e97",
   "metadata": {},
   "outputs": [
    {
     "data": {
      "text/html": [
       "<div>\n",
       "<style scoped>\n",
       "    .dataframe tbody tr th:only-of-type {\n",
       "        vertical-align: middle;\n",
       "    }\n",
       "\n",
       "    .dataframe tbody tr th {\n",
       "        vertical-align: top;\n",
       "    }\n",
       "\n",
       "    .dataframe thead th {\n",
       "        text-align: right;\n",
       "    }\n",
       "</style>\n",
       "<table border=\"1\" class=\"dataframe\">\n",
       "  <thead>\n",
       "    <tr style=\"text-align: right;\">\n",
       "      <th></th>\n",
       "      <th>add-on_count</th>\n",
       "      <th>churn</th>\n",
       "      <th>contract</th>\n",
       "      <th>customer_id</th>\n",
       "      <th>dependents</th>\n",
       "      <th>device_protection</th>\n",
       "      <th>gender</th>\n",
       "      <th>internet_service</th>\n",
       "      <th>multiple_lines</th>\n",
       "      <th>online_backup</th>\n",
       "      <th>...</th>\n",
       "      <th>tech_support</th>\n",
       "      <th>with_online_backup</th>\n",
       "      <th>with_online_security</th>\n",
       "      <th>with_streaming_movies</th>\n",
       "      <th>with_streaming_tv</th>\n",
       "      <th>with_tech_support</th>\n",
       "      <th>estimated_tenure(months)</th>\n",
       "      <th>monthly_charges</th>\n",
       "      <th>tenure</th>\n",
       "      <th>total_charges</th>\n",
       "    </tr>\n",
       "  </thead>\n",
       "  <tbody>\n",
       "  </tbody>\n",
       "</table>\n",
       "<p>0 rows × 29 columns</p>\n",
       "</div>"
      ],
      "text/plain": [
       "Empty DataFrame\n",
       "Columns: [add-on_count, churn, contract, customer_id, dependents, device_protection, gender, internet_service, multiple_lines, online_backup, online_security, paperless_billing, partner, payment_method, payment_type, phone_service, senior_citizen, streaming_movies, streaming_tv, tech_support, with_online_backup, with_online_security, with_streaming_movies, with_streaming_tv, with_tech_support, estimated_tenure(months), monthly_charges, tenure, total_charges]\n",
       "Index: []\n",
       "\n",
       "[0 rows x 29 columns]"
      ]
     },
     "execution_count": 134,
     "metadata": {},
     "output_type": "execute_result"
    }
   ],
   "source": [
    "# none, no_phone\n",
    "none_no_phone = df[(df['internet_service'] == 'no') & (df['multiple_lines'] == 'no_phone_service')]\n",
    "# empty dataset"
   ]
  },
  {
   "cell_type": "markdown",
   "id": "06c43430",
   "metadata": {},
   "source": [
    "##### no internet, single_line\n",
    "H$_0$: There is no linear correlation between tenure and monthly charges for customers who have internet_service: none, and a single phone line.\n",
    "\n",
    "H$_a$: This is a linear correlation between tenure and monthly charges for customers who have internet_service: none, and a single phone line."
   ]
  },
  {
   "cell_type": "code",
   "execution_count": 165,
   "id": "5b01df52",
   "metadata": {},
   "outputs": [],
   "source": [
    "# none, single\n",
    "# none_single = df[(df['internet_service'] == 'no') & (df['multiple_lines'] == 'single_line')]\n",
    "\n",
    "tenure = df.tenure[(df['internet_service'] == 'no') & (df['multiple_lines'] == 'single_line')]\n",
    "monthly_charges = df.monthly_charges[(df['internet_service'] == 'no') & (df['multiple_lines'] == 'single_line')]"
   ]
  },
  {
   "cell_type": "code",
   "execution_count": 166,
   "id": "65fc9f34",
   "metadata": {},
   "outputs": [
    {
     "data": {
      "text/plain": [
       "(-0.012070688235860954, 0.6782002111103688)"
      ]
     },
     "execution_count": 166,
     "metadata": {},
     "output_type": "execute_result"
    }
   ],
   "source": [
    "r, p = stats.pearsonr(tenure, monthly_charges)\n",
    "\n",
    "r, p"
   ]
  },
  {
   "cell_type": "code",
   "execution_count": 167,
   "id": "7ed4a47c",
   "metadata": {},
   "outputs": [
    {
     "name": "stdout",
     "output_type": "stream",
     "text": [
      "We fail to reject the null hypothesis. With p value: 0.6782002111103688, this is not enough evidence to support a linear relationship between tenure and total charges for customers who have internet_service: none , and a single phone line\n"
     ]
    },
    {
     "data": {
      "text/plain": [
       "False"
      ]
     },
     "execution_count": 167,
     "metadata": {},
     "output_type": "execute_result"
    }
   ],
   "source": [
    "if p < α:\n",
    "    print(f'We reject the null hypothesis. With p value: {p}, there is enough evidence to support a linear relationship between tenure and total charges for customers who have internet_service: none, and a single phone line.')\n",
    "else:\n",
    "    print(f'We fail to reject the null hypothesis. With p value: {p}, this is not enough evidence to support a linear relationship between tenure and total charges for customers who have internet_service: none , and a single phone line')\n",
    "\n",
    "p < α"
   ]
  },
  {
   "cell_type": "markdown",
   "id": "f07e6718",
   "metadata": {},
   "source": [
    "##### no internet, multiple lines\n",
    "H$_0$: There is no linear correlation between tenure and monthly charges for customers who have internet_service: none, and multiple phone lines.\n",
    "\n",
    "H$_a$: This is a linear correlation between tenure and monthly charges for customers who have internet_service: none, and multiple phone lines."
   ]
  },
  {
   "cell_type": "code",
   "execution_count": 221,
   "id": "4a2e30cc",
   "metadata": {},
   "outputs": [],
   "source": [
    "# none, multiple\n",
    "# none_multiple = df[(df['internet_service'] == 'no') & (df['multiple_lines'] == 'multiple_lines')]\n",
    "\n",
    "tenure = df.tenure[(df['internet_service'] == 'no') & (df['multiple_lines'] == 'multiple_lines')]\n",
    "monthly_charges = df.monthly_charges[(df['internet_service'] == 'no') & (df['multiple_lines'] == 'multiple_lines')]"
   ]
  },
  {
   "cell_type": "code",
   "execution_count": 222,
   "id": "87dd5c61",
   "metadata": {},
   "outputs": [
    {
     "ename": "ValueError",
     "evalue": "x and y must have length at least 2.",
     "output_type": "error",
     "traceback": [
      "\u001b[0;31m---------------------------------------------------------------------------\u001b[0m",
      "\u001b[0;31mValueError\u001b[0m                                Traceback (most recent call last)",
      "Input \u001b[0;32mIn [222]\u001b[0m, in \u001b[0;36m<cell line: 1>\u001b[0;34m()\u001b[0m\n\u001b[0;32m----> 1\u001b[0m r, p \u001b[38;5;241m=\u001b[39m \u001b[43mstats\u001b[49m\u001b[38;5;241;43m.\u001b[39;49m\u001b[43mpearsonr\u001b[49m\u001b[43m(\u001b[49m\u001b[43mtenure\u001b[49m\u001b[43m,\u001b[49m\u001b[43m \u001b[49m\u001b[43mmonthly_charges\u001b[49m\u001b[43m)\u001b[49m\n\u001b[1;32m      3\u001b[0m r, p\n",
      "File \u001b[0;32m/opt/homebrew/anaconda3/lib/python3.9/site-packages/scipy/stats/_stats_py.py:4415\u001b[0m, in \u001b[0;36mpearsonr\u001b[0;34m(x, y, alternative)\u001b[0m\n\u001b[1;32m   4412\u001b[0m     \u001b[38;5;28;01mraise\u001b[39;00m \u001b[38;5;167;01mValueError\u001b[39;00m(\u001b[38;5;124m'\u001b[39m\u001b[38;5;124mx and y must have the same length.\u001b[39m\u001b[38;5;124m'\u001b[39m)\n\u001b[1;32m   4414\u001b[0m \u001b[38;5;28;01mif\u001b[39;00m n \u001b[38;5;241m<\u001b[39m \u001b[38;5;241m2\u001b[39m:\n\u001b[0;32m-> 4415\u001b[0m     \u001b[38;5;28;01mraise\u001b[39;00m \u001b[38;5;167;01mValueError\u001b[39;00m(\u001b[38;5;124m'\u001b[39m\u001b[38;5;124mx and y must have length at least 2.\u001b[39m\u001b[38;5;124m'\u001b[39m)\n\u001b[1;32m   4417\u001b[0m x \u001b[38;5;241m=\u001b[39m np\u001b[38;5;241m.\u001b[39masarray(x)\n\u001b[1;32m   4418\u001b[0m y \u001b[38;5;241m=\u001b[39m np\u001b[38;5;241m.\u001b[39masarray(y)\n",
      "\u001b[0;31mValueError\u001b[0m: x and y must have length at least 2."
     ]
    }
   ],
   "source": [
    "r, p = stats.pearsonr(tenure, monthly_charges)\n",
    "\n",
    "r, p"
   ]
  },
  {
   "cell_type": "code",
   "execution_count": 181,
   "id": "328dc6e3",
   "metadata": {},
   "outputs": [
    {
     "name": "stdout",
     "output_type": "stream",
     "text": [
      "We reject the null hypothesis. With p value: 9.89409632221439e-15, there is enough evidence to support a linear relationship between tenure and total charges for customers who have internet_service: none, and multiple phone lines.\n"
     ]
    },
    {
     "data": {
      "text/plain": [
       "True"
      ]
     },
     "execution_count": 181,
     "metadata": {},
     "output_type": "execute_result"
    }
   ],
   "source": [
    "if p < α:\n",
    "    print(f'We reject the null hypothesis. With p value: {p}, there is enough evidence to support a linear relationship between tenure and total charges for customers who have internet_service: none, and multiple phone lines.')\n",
    "else:\n",
    "    print(f'We fail to reject the null hypothesis. With p value: {p}, this is not enough evidence to support a linear relationship between tenure and total charges for customers who have internet_service: none , and multiple phone lines')\n",
    "\n",
    "p < α"
   ]
  },
  {
   "cell_type": "code",
   "execution_count": null,
   "id": "9fc9f45f",
   "metadata": {},
   "outputs": [],
   "source": []
  },
  {
   "cell_type": "markdown",
   "id": "e217939c",
   "metadata": {},
   "source": [
    "##### "
   ]
  },
  {
   "cell_type": "markdown",
   "id": "121bca7d",
   "metadata": {},
   "source": [
    "### 3. Use the employees database.\n",
    "    a. Is there a relationship between how long an employee has been with the company and their salary?\n",
    "    b. Is there a relationship between how long an employee has been with the company and the number of titles they have had?"
   ]
  },
  {
   "cell_type": "code",
   "execution_count": 171,
   "id": "397060b7",
   "metadata": {},
   "outputs": [],
   "source": [
    "from env import user, password, host"
   ]
  },
  {
   "cell_type": "code",
   "execution_count": 172,
   "id": "3c36a6d1",
   "metadata": {},
   "outputs": [],
   "source": [
    "def get_db_url(user, host,password, db):\n",
    "    url = f'mysql+pymysql://{user}:{password}@{host}/{db}'\n",
    "    return url"
   ]
  },
  {
   "cell_type": "code",
   "execution_count": 173,
   "id": "0c92fe3b",
   "metadata": {},
   "outputs": [],
   "source": [
    "url = get_db_url(user, host, password, 'employees')"
   ]
  },
  {
   "cell_type": "code",
   "execution_count": 174,
   "id": "a47b341d",
   "metadata": {},
   "outputs": [
    {
     "ename": "KeyboardInterrupt",
     "evalue": "",
     "output_type": "error",
     "traceback": [
      "\u001b[0;31m---------------------------------------------------------------------------\u001b[0m",
      "\u001b[0;31mKeyboardInterrupt\u001b[0m                         Traceback (most recent call last)",
      "Input \u001b[0;32mIn [174]\u001b[0m, in \u001b[0;36m<cell line: 1>\u001b[0;34m()\u001b[0m\n\u001b[0;32m----> 1\u001b[0m employees \u001b[38;5;241m=\u001b[39m \u001b[43mpd\u001b[49m\u001b[38;5;241;43m.\u001b[39;49m\u001b[43mread_sql\u001b[49m\u001b[43m(\u001b[49m\u001b[38;5;124;43m'\u001b[39;49m\u001b[38;5;124;43mselect * from salaries\u001b[39;49m\u001b[38;5;124;43m'\u001b[39;49m\u001b[43m,\u001b[49m\u001b[43m \u001b[49m\u001b[43murl\u001b[49m\u001b[43m)\u001b[49m\n",
      "File \u001b[0;32m/opt/homebrew/anaconda3/lib/python3.9/site-packages/pandas/io/sql.py:593\u001b[0m, in \u001b[0;36mread_sql\u001b[0;34m(sql, con, index_col, coerce_float, params, parse_dates, columns, chunksize)\u001b[0m\n\u001b[1;32m    584\u001b[0m     \u001b[38;5;28;01mreturn\u001b[39;00m pandas_sql\u001b[38;5;241m.\u001b[39mread_table(\n\u001b[1;32m    585\u001b[0m         sql,\n\u001b[1;32m    586\u001b[0m         index_col\u001b[38;5;241m=\u001b[39mindex_col,\n\u001b[0;32m   (...)\u001b[0m\n\u001b[1;32m    590\u001b[0m         chunksize\u001b[38;5;241m=\u001b[39mchunksize,\n\u001b[1;32m    591\u001b[0m     )\n\u001b[1;32m    592\u001b[0m \u001b[38;5;28;01melse\u001b[39;00m:\n\u001b[0;32m--> 593\u001b[0m     \u001b[38;5;28;01mreturn\u001b[39;00m \u001b[43mpandas_sql\u001b[49m\u001b[38;5;241;43m.\u001b[39;49m\u001b[43mread_query\u001b[49m\u001b[43m(\u001b[49m\n\u001b[1;32m    594\u001b[0m \u001b[43m        \u001b[49m\u001b[43msql\u001b[49m\u001b[43m,\u001b[49m\n\u001b[1;32m    595\u001b[0m \u001b[43m        \u001b[49m\u001b[43mindex_col\u001b[49m\u001b[38;5;241;43m=\u001b[39;49m\u001b[43mindex_col\u001b[49m\u001b[43m,\u001b[49m\n\u001b[1;32m    596\u001b[0m \u001b[43m        \u001b[49m\u001b[43mparams\u001b[49m\u001b[38;5;241;43m=\u001b[39;49m\u001b[43mparams\u001b[49m\u001b[43m,\u001b[49m\n\u001b[1;32m    597\u001b[0m \u001b[43m        \u001b[49m\u001b[43mcoerce_float\u001b[49m\u001b[38;5;241;43m=\u001b[39;49m\u001b[43mcoerce_float\u001b[49m\u001b[43m,\u001b[49m\n\u001b[1;32m    598\u001b[0m \u001b[43m        \u001b[49m\u001b[43mparse_dates\u001b[49m\u001b[38;5;241;43m=\u001b[39;49m\u001b[43mparse_dates\u001b[49m\u001b[43m,\u001b[49m\n\u001b[1;32m    599\u001b[0m \u001b[43m        \u001b[49m\u001b[43mchunksize\u001b[49m\u001b[38;5;241;43m=\u001b[39;49m\u001b[43mchunksize\u001b[49m\u001b[43m,\u001b[49m\n\u001b[1;32m    600\u001b[0m \u001b[43m    \u001b[49m\u001b[43m)\u001b[49m\n",
      "File \u001b[0;32m/opt/homebrew/anaconda3/lib/python3.9/site-packages/pandas/io/sql.py:1560\u001b[0m, in \u001b[0;36mSQLDatabase.read_query\u001b[0;34m(self, sql, index_col, coerce_float, parse_dates, params, chunksize, dtype)\u001b[0m\n\u001b[1;32m   1512\u001b[0m \u001b[38;5;124;03m\"\"\"\u001b[39;00m\n\u001b[1;32m   1513\u001b[0m \u001b[38;5;124;03mRead SQL query into a DataFrame.\u001b[39;00m\n\u001b[1;32m   1514\u001b[0m \n\u001b[0;32m   (...)\u001b[0m\n\u001b[1;32m   1556\u001b[0m \n\u001b[1;32m   1557\u001b[0m \u001b[38;5;124;03m\"\"\"\u001b[39;00m\n\u001b[1;32m   1558\u001b[0m args \u001b[38;5;241m=\u001b[39m _convert_params(sql, params)\n\u001b[0;32m-> 1560\u001b[0m result \u001b[38;5;241m=\u001b[39m \u001b[38;5;28;43mself\u001b[39;49m\u001b[38;5;241;43m.\u001b[39;49m\u001b[43mexecute\u001b[49m\u001b[43m(\u001b[49m\u001b[38;5;241;43m*\u001b[39;49m\u001b[43margs\u001b[49m\u001b[43m)\u001b[49m\n\u001b[1;32m   1561\u001b[0m columns \u001b[38;5;241m=\u001b[39m result\u001b[38;5;241m.\u001b[39mkeys()\n\u001b[1;32m   1563\u001b[0m \u001b[38;5;28;01mif\u001b[39;00m chunksize \u001b[38;5;129;01mis\u001b[39;00m \u001b[38;5;129;01mnot\u001b[39;00m \u001b[38;5;28;01mNone\u001b[39;00m:\n",
      "File \u001b[0;32m/opt/homebrew/anaconda3/lib/python3.9/site-packages/pandas/io/sql.py:1405\u001b[0m, in \u001b[0;36mSQLDatabase.execute\u001b[0;34m(self, *args, **kwargs)\u001b[0m\n\u001b[1;32m   1403\u001b[0m \u001b[38;5;28;01mdef\u001b[39;00m \u001b[38;5;21mexecute\u001b[39m(\u001b[38;5;28mself\u001b[39m, \u001b[38;5;241m*\u001b[39margs, \u001b[38;5;241m*\u001b[39m\u001b[38;5;241m*\u001b[39mkwargs):\n\u001b[1;32m   1404\u001b[0m     \u001b[38;5;124;03m\"\"\"Simple passthrough to SQLAlchemy connectable\"\"\"\u001b[39;00m\n\u001b[0;32m-> 1405\u001b[0m     \u001b[38;5;28;01mreturn\u001b[39;00m \u001b[38;5;28;43mself\u001b[39;49m\u001b[38;5;241;43m.\u001b[39;49m\u001b[43mconnectable\u001b[49m\u001b[38;5;241;43m.\u001b[39;49m\u001b[43mexecution_options\u001b[49m\u001b[43m(\u001b[49m\u001b[43m)\u001b[49m\u001b[38;5;241;43m.\u001b[39;49m\u001b[43mexecute\u001b[49m\u001b[43m(\u001b[49m\u001b[38;5;241;43m*\u001b[39;49m\u001b[43margs\u001b[49m\u001b[43m,\u001b[49m\u001b[43m \u001b[49m\u001b[38;5;241;43m*\u001b[39;49m\u001b[38;5;241;43m*\u001b[39;49m\u001b[43mkwargs\u001b[49m\u001b[43m)\u001b[49m\n",
      "File \u001b[0;32m<string>:2\u001b[0m, in \u001b[0;36mexecute\u001b[0;34m(self, statement, *multiparams, **params)\u001b[0m\n",
      "File \u001b[0;32m/opt/homebrew/anaconda3/lib/python3.9/site-packages/sqlalchemy/util/deprecations.py:402\u001b[0m, in \u001b[0;36m_decorate_with_warning.<locals>.warned\u001b[0;34m(fn, *args, **kwargs)\u001b[0m\n\u001b[1;32m    400\u001b[0m \u001b[38;5;28;01mif\u001b[39;00m \u001b[38;5;129;01mnot\u001b[39;00m skip_warning:\n\u001b[1;32m    401\u001b[0m     _warn_with_version(message, version, wtype, stacklevel\u001b[38;5;241m=\u001b[39m\u001b[38;5;241m3\u001b[39m)\n\u001b[0;32m--> 402\u001b[0m \u001b[38;5;28;01mreturn\u001b[39;00m \u001b[43mfn\u001b[49m\u001b[43m(\u001b[49m\u001b[38;5;241;43m*\u001b[39;49m\u001b[43margs\u001b[49m\u001b[43m,\u001b[49m\u001b[43m \u001b[49m\u001b[38;5;241;43m*\u001b[39;49m\u001b[38;5;241;43m*\u001b[39;49m\u001b[43mkwargs\u001b[49m\u001b[43m)\u001b[49m\n",
      "File \u001b[0;32m/opt/homebrew/anaconda3/lib/python3.9/site-packages/sqlalchemy/engine/base.py:3176\u001b[0m, in \u001b[0;36mEngine.execute\u001b[0;34m(self, statement, *multiparams, **params)\u001b[0m\n\u001b[1;32m   3158\u001b[0m \u001b[38;5;124;03m\"\"\"Executes the given construct and returns a\u001b[39;00m\n\u001b[1;32m   3159\u001b[0m \u001b[38;5;124;03m:class:`_engine.CursorResult`.\u001b[39;00m\n\u001b[1;32m   3160\u001b[0m \n\u001b[0;32m   (...)\u001b[0m\n\u001b[1;32m   3173\u001b[0m \n\u001b[1;32m   3174\u001b[0m \u001b[38;5;124;03m\"\"\"\u001b[39;00m\n\u001b[1;32m   3175\u001b[0m connection \u001b[38;5;241m=\u001b[39m \u001b[38;5;28mself\u001b[39m\u001b[38;5;241m.\u001b[39mconnect(close_with_result\u001b[38;5;241m=\u001b[39m\u001b[38;5;28;01mTrue\u001b[39;00m)\n\u001b[0;32m-> 3176\u001b[0m \u001b[38;5;28;01mreturn\u001b[39;00m \u001b[43mconnection\u001b[49m\u001b[38;5;241;43m.\u001b[39;49m\u001b[43mexecute\u001b[49m\u001b[43m(\u001b[49m\u001b[43mstatement\u001b[49m\u001b[43m,\u001b[49m\u001b[43m \u001b[49m\u001b[38;5;241;43m*\u001b[39;49m\u001b[43mmultiparams\u001b[49m\u001b[43m,\u001b[49m\u001b[43m \u001b[49m\u001b[38;5;241;43m*\u001b[39;49m\u001b[38;5;241;43m*\u001b[39;49m\u001b[43mparams\u001b[49m\u001b[43m)\u001b[49m\n",
      "File \u001b[0;32m/opt/homebrew/anaconda3/lib/python3.9/site-packages/sqlalchemy/engine/base.py:1291\u001b[0m, in \u001b[0;36mConnection.execute\u001b[0;34m(self, statement, *multiparams, **params)\u001b[0m\n\u001b[1;32m   1282\u001b[0m \u001b[38;5;28;01mif\u001b[39;00m \u001b[38;5;28misinstance\u001b[39m(statement, util\u001b[38;5;241m.\u001b[39mstring_types):\n\u001b[1;32m   1283\u001b[0m     util\u001b[38;5;241m.\u001b[39mwarn_deprecated_20(\n\u001b[1;32m   1284\u001b[0m         \u001b[38;5;124m\"\u001b[39m\u001b[38;5;124mPassing a string to Connection.execute() is \u001b[39m\u001b[38;5;124m\"\u001b[39m\n\u001b[1;32m   1285\u001b[0m         \u001b[38;5;124m\"\u001b[39m\u001b[38;5;124mdeprecated and will be removed in version 2.0.  Use the \u001b[39m\u001b[38;5;124m\"\u001b[39m\n\u001b[0;32m   (...)\u001b[0m\n\u001b[1;32m   1288\u001b[0m         \u001b[38;5;124m\"\u001b[39m\u001b[38;5;124mdriver-level SQL string.\u001b[39m\u001b[38;5;124m\"\u001b[39m\n\u001b[1;32m   1289\u001b[0m     )\n\u001b[0;32m-> 1291\u001b[0m     \u001b[38;5;28;01mreturn\u001b[39;00m \u001b[38;5;28;43mself\u001b[39;49m\u001b[38;5;241;43m.\u001b[39;49m\u001b[43m_exec_driver_sql\u001b[49m\u001b[43m(\u001b[49m\n\u001b[1;32m   1292\u001b[0m \u001b[43m        \u001b[49m\u001b[43mstatement\u001b[49m\u001b[43m,\u001b[49m\n\u001b[1;32m   1293\u001b[0m \u001b[43m        \u001b[49m\u001b[43mmultiparams\u001b[49m\u001b[43m,\u001b[49m\n\u001b[1;32m   1294\u001b[0m \u001b[43m        \u001b[49m\u001b[43mparams\u001b[49m\u001b[43m,\u001b[49m\n\u001b[1;32m   1295\u001b[0m \u001b[43m        \u001b[49m\u001b[43m_EMPTY_EXECUTION_OPTS\u001b[49m\u001b[43m,\u001b[49m\n\u001b[1;32m   1296\u001b[0m \u001b[43m        \u001b[49m\u001b[43mfuture\u001b[49m\u001b[38;5;241;43m=\u001b[39;49m\u001b[38;5;28;43;01mFalse\u001b[39;49;00m\u001b[43m,\u001b[49m\n\u001b[1;32m   1297\u001b[0m \u001b[43m    \u001b[49m\u001b[43m)\u001b[49m\n\u001b[1;32m   1299\u001b[0m \u001b[38;5;28;01mtry\u001b[39;00m:\n\u001b[1;32m   1300\u001b[0m     meth \u001b[38;5;241m=\u001b[39m statement\u001b[38;5;241m.\u001b[39m_execute_on_connection\n",
      "File \u001b[0;32m/opt/homebrew/anaconda3/lib/python3.9/site-packages/sqlalchemy/engine/base.py:1595\u001b[0m, in \u001b[0;36mConnection._exec_driver_sql\u001b[0;34m(self, statement, multiparams, params, execution_options, future)\u001b[0m\n\u001b[1;32m   1585\u001b[0m         (\n\u001b[1;32m   1586\u001b[0m             statement,\n\u001b[1;32m   1587\u001b[0m             distilled_params,\n\u001b[0;32m   (...)\u001b[0m\n\u001b[1;32m   1591\u001b[0m             statement, distilled_parameters, execution_options\n\u001b[1;32m   1592\u001b[0m         )\n\u001b[1;32m   1594\u001b[0m dialect \u001b[38;5;241m=\u001b[39m \u001b[38;5;28mself\u001b[39m\u001b[38;5;241m.\u001b[39mdialect\n\u001b[0;32m-> 1595\u001b[0m ret \u001b[38;5;241m=\u001b[39m \u001b[38;5;28;43mself\u001b[39;49m\u001b[38;5;241;43m.\u001b[39;49m\u001b[43m_execute_context\u001b[49m\u001b[43m(\u001b[49m\n\u001b[1;32m   1596\u001b[0m \u001b[43m    \u001b[49m\u001b[43mdialect\u001b[49m\u001b[43m,\u001b[49m\n\u001b[1;32m   1597\u001b[0m \u001b[43m    \u001b[49m\u001b[43mdialect\u001b[49m\u001b[38;5;241;43m.\u001b[39;49m\u001b[43mexecution_ctx_cls\u001b[49m\u001b[38;5;241;43m.\u001b[39;49m\u001b[43m_init_statement\u001b[49m\u001b[43m,\u001b[49m\n\u001b[1;32m   1598\u001b[0m \u001b[43m    \u001b[49m\u001b[43mstatement\u001b[49m\u001b[43m,\u001b[49m\n\u001b[1;32m   1599\u001b[0m \u001b[43m    \u001b[49m\u001b[43mdistilled_parameters\u001b[49m\u001b[43m,\u001b[49m\n\u001b[1;32m   1600\u001b[0m \u001b[43m    \u001b[49m\u001b[43mexecution_options\u001b[49m\u001b[43m,\u001b[49m\n\u001b[1;32m   1601\u001b[0m \u001b[43m    \u001b[49m\u001b[43mstatement\u001b[49m\u001b[43m,\u001b[49m\n\u001b[1;32m   1602\u001b[0m \u001b[43m    \u001b[49m\u001b[43mdistilled_parameters\u001b[49m\u001b[43m,\u001b[49m\n\u001b[1;32m   1603\u001b[0m \u001b[43m\u001b[49m\u001b[43m)\u001b[49m\n\u001b[1;32m   1605\u001b[0m \u001b[38;5;28;01mif\u001b[39;00m \u001b[38;5;129;01mnot\u001b[39;00m future:\n\u001b[1;32m   1606\u001b[0m     \u001b[38;5;28;01mif\u001b[39;00m \u001b[38;5;28mself\u001b[39m\u001b[38;5;241m.\u001b[39m_has_events \u001b[38;5;129;01mor\u001b[39;00m \u001b[38;5;28mself\u001b[39m\u001b[38;5;241m.\u001b[39mengine\u001b[38;5;241m.\u001b[39m_has_events:\n",
      "File \u001b[0;32m/opt/homebrew/anaconda3/lib/python3.9/site-packages/sqlalchemy/engine/base.py:1862\u001b[0m, in \u001b[0;36mConnection._execute_context\u001b[0;34m(self, dialect, constructor, statement, parameters, execution_options, *args, **kw)\u001b[0m\n\u001b[1;32m   1859\u001b[0m             branched\u001b[38;5;241m.\u001b[39mclose()\n\u001b[1;32m   1861\u001b[0m \u001b[38;5;28;01mexcept\u001b[39;00m \u001b[38;5;167;01mBaseException\u001b[39;00m \u001b[38;5;28;01mas\u001b[39;00m e:\n\u001b[0;32m-> 1862\u001b[0m     \u001b[38;5;28;43mself\u001b[39;49m\u001b[38;5;241;43m.\u001b[39;49m\u001b[43m_handle_dbapi_exception\u001b[49m\u001b[43m(\u001b[49m\n\u001b[1;32m   1863\u001b[0m \u001b[43m        \u001b[49m\u001b[43me\u001b[49m\u001b[43m,\u001b[49m\u001b[43m \u001b[49m\u001b[43mstatement\u001b[49m\u001b[43m,\u001b[49m\u001b[43m \u001b[49m\u001b[43mparameters\u001b[49m\u001b[43m,\u001b[49m\u001b[43m \u001b[49m\u001b[43mcursor\u001b[49m\u001b[43m,\u001b[49m\u001b[43m \u001b[49m\u001b[43mcontext\u001b[49m\n\u001b[1;32m   1864\u001b[0m \u001b[43m    \u001b[49m\u001b[43m)\u001b[49m\n\u001b[1;32m   1866\u001b[0m \u001b[38;5;28;01mreturn\u001b[39;00m result\n",
      "File \u001b[0;32m/opt/homebrew/anaconda3/lib/python3.9/site-packages/sqlalchemy/engine/base.py:2047\u001b[0m, in \u001b[0;36mConnection._handle_dbapi_exception\u001b[0;34m(self, e, statement, parameters, cursor, context)\u001b[0m\n\u001b[1;32m   2043\u001b[0m         util\u001b[38;5;241m.\u001b[39mraise_(\n\u001b[1;32m   2044\u001b[0m             sqlalchemy_exception, with_traceback\u001b[38;5;241m=\u001b[39mexc_info[\u001b[38;5;241m2\u001b[39m], from_\u001b[38;5;241m=\u001b[39me\n\u001b[1;32m   2045\u001b[0m         )\n\u001b[1;32m   2046\u001b[0m     \u001b[38;5;28;01melse\u001b[39;00m:\n\u001b[0;32m-> 2047\u001b[0m         \u001b[43mutil\u001b[49m\u001b[38;5;241;43m.\u001b[39;49m\u001b[43mraise_\u001b[49m\u001b[43m(\u001b[49m\u001b[43mexc_info\u001b[49m\u001b[43m[\u001b[49m\u001b[38;5;241;43m1\u001b[39;49m\u001b[43m]\u001b[49m\u001b[43m,\u001b[49m\u001b[43m \u001b[49m\u001b[43mwith_traceback\u001b[49m\u001b[38;5;241;43m=\u001b[39;49m\u001b[43mexc_info\u001b[49m\u001b[43m[\u001b[49m\u001b[38;5;241;43m2\u001b[39;49m\u001b[43m]\u001b[49m\u001b[43m)\u001b[49m\n\u001b[1;32m   2049\u001b[0m \u001b[38;5;28;01mfinally\u001b[39;00m:\n\u001b[1;32m   2050\u001b[0m     \u001b[38;5;28;01mdel\u001b[39;00m \u001b[38;5;28mself\u001b[39m\u001b[38;5;241m.\u001b[39m_reentrant_error\n",
      "File \u001b[0;32m/opt/homebrew/anaconda3/lib/python3.9/site-packages/sqlalchemy/util/compat.py:208\u001b[0m, in \u001b[0;36mraise_\u001b[0;34m(***failed resolving arguments***)\u001b[0m\n\u001b[1;32m    205\u001b[0m     exception\u001b[38;5;241m.\u001b[39m__cause__ \u001b[38;5;241m=\u001b[39m replace_context\n\u001b[1;32m    207\u001b[0m \u001b[38;5;28;01mtry\u001b[39;00m:\n\u001b[0;32m--> 208\u001b[0m     \u001b[38;5;28;01mraise\u001b[39;00m exception\n\u001b[1;32m    209\u001b[0m \u001b[38;5;28;01mfinally\u001b[39;00m:\n\u001b[1;32m    210\u001b[0m     \u001b[38;5;66;03m# credit to\u001b[39;00m\n\u001b[1;32m    211\u001b[0m     \u001b[38;5;66;03m# https://cosmicpercolator.com/2016/01/13/exception-leaks-in-python-2-and-3/\u001b[39;00m\n\u001b[1;32m    212\u001b[0m     \u001b[38;5;66;03m# as the __traceback__ object creates a cycle\u001b[39;00m\n\u001b[1;32m    213\u001b[0m     \u001b[38;5;28;01mdel\u001b[39;00m exception, replace_context, from_, with_traceback\n",
      "File \u001b[0;32m/opt/homebrew/anaconda3/lib/python3.9/site-packages/sqlalchemy/engine/base.py:1819\u001b[0m, in \u001b[0;36mConnection._execute_context\u001b[0;34m(self, dialect, constructor, statement, parameters, execution_options, *args, **kw)\u001b[0m\n\u001b[1;32m   1817\u001b[0m                 \u001b[38;5;28;01mbreak\u001b[39;00m\n\u001b[1;32m   1818\u001b[0m     \u001b[38;5;28;01mif\u001b[39;00m \u001b[38;5;129;01mnot\u001b[39;00m evt_handled:\n\u001b[0;32m-> 1819\u001b[0m         \u001b[38;5;28;43mself\u001b[39;49m\u001b[38;5;241;43m.\u001b[39;49m\u001b[43mdialect\u001b[49m\u001b[38;5;241;43m.\u001b[39;49m\u001b[43mdo_execute\u001b[49m\u001b[43m(\u001b[49m\n\u001b[1;32m   1820\u001b[0m \u001b[43m            \u001b[49m\u001b[43mcursor\u001b[49m\u001b[43m,\u001b[49m\u001b[43m \u001b[49m\u001b[43mstatement\u001b[49m\u001b[43m,\u001b[49m\u001b[43m \u001b[49m\u001b[43mparameters\u001b[49m\u001b[43m,\u001b[49m\u001b[43m \u001b[49m\u001b[43mcontext\u001b[49m\n\u001b[1;32m   1821\u001b[0m \u001b[43m        \u001b[49m\u001b[43m)\u001b[49m\n\u001b[1;32m   1823\u001b[0m \u001b[38;5;28;01mif\u001b[39;00m \u001b[38;5;28mself\u001b[39m\u001b[38;5;241m.\u001b[39m_has_events \u001b[38;5;129;01mor\u001b[39;00m \u001b[38;5;28mself\u001b[39m\u001b[38;5;241m.\u001b[39mengine\u001b[38;5;241m.\u001b[39m_has_events:\n\u001b[1;32m   1824\u001b[0m     \u001b[38;5;28mself\u001b[39m\u001b[38;5;241m.\u001b[39mdispatch\u001b[38;5;241m.\u001b[39mafter_cursor_execute(\n\u001b[1;32m   1825\u001b[0m         \u001b[38;5;28mself\u001b[39m,\n\u001b[1;32m   1826\u001b[0m         cursor,\n\u001b[0;32m   (...)\u001b[0m\n\u001b[1;32m   1830\u001b[0m         context\u001b[38;5;241m.\u001b[39mexecutemany,\n\u001b[1;32m   1831\u001b[0m     )\n",
      "File \u001b[0;32m/opt/homebrew/anaconda3/lib/python3.9/site-packages/sqlalchemy/engine/default.py:732\u001b[0m, in \u001b[0;36mDefaultDialect.do_execute\u001b[0;34m(self, cursor, statement, parameters, context)\u001b[0m\n\u001b[1;32m    731\u001b[0m \u001b[38;5;28;01mdef\u001b[39;00m \u001b[38;5;21mdo_execute\u001b[39m(\u001b[38;5;28mself\u001b[39m, cursor, statement, parameters, context\u001b[38;5;241m=\u001b[39m\u001b[38;5;28;01mNone\u001b[39;00m):\n\u001b[0;32m--> 732\u001b[0m     \u001b[43mcursor\u001b[49m\u001b[38;5;241;43m.\u001b[39;49m\u001b[43mexecute\u001b[49m\u001b[43m(\u001b[49m\u001b[43mstatement\u001b[49m\u001b[43m,\u001b[49m\u001b[43m \u001b[49m\u001b[43mparameters\u001b[49m\u001b[43m)\u001b[49m\n",
      "File \u001b[0;32m/opt/homebrew/anaconda3/lib/python3.9/site-packages/pymysql/cursors.py:148\u001b[0m, in \u001b[0;36mCursor.execute\u001b[0;34m(self, query, args)\u001b[0m\n\u001b[1;32m    144\u001b[0m     \u001b[38;5;28;01mpass\u001b[39;00m\n\u001b[1;32m    146\u001b[0m query \u001b[38;5;241m=\u001b[39m \u001b[38;5;28mself\u001b[39m\u001b[38;5;241m.\u001b[39mmogrify(query, args)\n\u001b[0;32m--> 148\u001b[0m result \u001b[38;5;241m=\u001b[39m \u001b[38;5;28;43mself\u001b[39;49m\u001b[38;5;241;43m.\u001b[39;49m\u001b[43m_query\u001b[49m\u001b[43m(\u001b[49m\u001b[43mquery\u001b[49m\u001b[43m)\u001b[49m\n\u001b[1;32m    149\u001b[0m \u001b[38;5;28mself\u001b[39m\u001b[38;5;241m.\u001b[39m_executed \u001b[38;5;241m=\u001b[39m query\n\u001b[1;32m    150\u001b[0m \u001b[38;5;28;01mreturn\u001b[39;00m result\n",
      "File \u001b[0;32m/opt/homebrew/anaconda3/lib/python3.9/site-packages/pymysql/cursors.py:310\u001b[0m, in \u001b[0;36mCursor._query\u001b[0;34m(self, q)\u001b[0m\n\u001b[1;32m    308\u001b[0m \u001b[38;5;28mself\u001b[39m\u001b[38;5;241m.\u001b[39m_last_executed \u001b[38;5;241m=\u001b[39m q\n\u001b[1;32m    309\u001b[0m \u001b[38;5;28mself\u001b[39m\u001b[38;5;241m.\u001b[39m_clear_result()\n\u001b[0;32m--> 310\u001b[0m \u001b[43mconn\u001b[49m\u001b[38;5;241;43m.\u001b[39;49m\u001b[43mquery\u001b[49m\u001b[43m(\u001b[49m\u001b[43mq\u001b[49m\u001b[43m)\u001b[49m\n\u001b[1;32m    311\u001b[0m \u001b[38;5;28mself\u001b[39m\u001b[38;5;241m.\u001b[39m_do_get_result()\n\u001b[1;32m    312\u001b[0m \u001b[38;5;28;01mreturn\u001b[39;00m \u001b[38;5;28mself\u001b[39m\u001b[38;5;241m.\u001b[39mrowcount\n",
      "File \u001b[0;32m/opt/homebrew/anaconda3/lib/python3.9/site-packages/pymysql/connections.py:548\u001b[0m, in \u001b[0;36mConnection.query\u001b[0;34m(self, sql, unbuffered)\u001b[0m\n\u001b[1;32m    546\u001b[0m     sql \u001b[38;5;241m=\u001b[39m sql\u001b[38;5;241m.\u001b[39mencode(\u001b[38;5;28mself\u001b[39m\u001b[38;5;241m.\u001b[39mencoding, \u001b[38;5;124m\"\u001b[39m\u001b[38;5;124msurrogateescape\u001b[39m\u001b[38;5;124m\"\u001b[39m)\n\u001b[1;32m    547\u001b[0m \u001b[38;5;28mself\u001b[39m\u001b[38;5;241m.\u001b[39m_execute_command(COMMAND\u001b[38;5;241m.\u001b[39mCOM_QUERY, sql)\n\u001b[0;32m--> 548\u001b[0m \u001b[38;5;28mself\u001b[39m\u001b[38;5;241m.\u001b[39m_affected_rows \u001b[38;5;241m=\u001b[39m \u001b[38;5;28;43mself\u001b[39;49m\u001b[38;5;241;43m.\u001b[39;49m\u001b[43m_read_query_result\u001b[49m\u001b[43m(\u001b[49m\u001b[43munbuffered\u001b[49m\u001b[38;5;241;43m=\u001b[39;49m\u001b[43munbuffered\u001b[49m\u001b[43m)\u001b[49m\n\u001b[1;32m    549\u001b[0m \u001b[38;5;28;01mreturn\u001b[39;00m \u001b[38;5;28mself\u001b[39m\u001b[38;5;241m.\u001b[39m_affected_rows\n",
      "File \u001b[0;32m/opt/homebrew/anaconda3/lib/python3.9/site-packages/pymysql/connections.py:775\u001b[0m, in \u001b[0;36mConnection._read_query_result\u001b[0;34m(self, unbuffered)\u001b[0m\n\u001b[1;32m    773\u001b[0m \u001b[38;5;28;01melse\u001b[39;00m:\n\u001b[1;32m    774\u001b[0m     result \u001b[38;5;241m=\u001b[39m MySQLResult(\u001b[38;5;28mself\u001b[39m)\n\u001b[0;32m--> 775\u001b[0m     \u001b[43mresult\u001b[49m\u001b[38;5;241;43m.\u001b[39;49m\u001b[43mread\u001b[49m\u001b[43m(\u001b[49m\u001b[43m)\u001b[49m\n\u001b[1;32m    776\u001b[0m \u001b[38;5;28mself\u001b[39m\u001b[38;5;241m.\u001b[39m_result \u001b[38;5;241m=\u001b[39m result\n\u001b[1;32m    777\u001b[0m \u001b[38;5;28;01mif\u001b[39;00m result\u001b[38;5;241m.\u001b[39mserver_status \u001b[38;5;129;01mis\u001b[39;00m \u001b[38;5;129;01mnot\u001b[39;00m \u001b[38;5;28;01mNone\u001b[39;00m:\n",
      "File \u001b[0;32m/opt/homebrew/anaconda3/lib/python3.9/site-packages/pymysql/connections.py:1163\u001b[0m, in \u001b[0;36mMySQLResult.read\u001b[0;34m(self)\u001b[0m\n\u001b[1;32m   1161\u001b[0m         \u001b[38;5;28mself\u001b[39m\u001b[38;5;241m.\u001b[39m_read_load_local_packet(first_packet)\n\u001b[1;32m   1162\u001b[0m     \u001b[38;5;28;01melse\u001b[39;00m:\n\u001b[0;32m-> 1163\u001b[0m         \u001b[38;5;28;43mself\u001b[39;49m\u001b[38;5;241;43m.\u001b[39;49m\u001b[43m_read_result_packet\u001b[49m\u001b[43m(\u001b[49m\u001b[43mfirst_packet\u001b[49m\u001b[43m)\u001b[49m\n\u001b[1;32m   1164\u001b[0m \u001b[38;5;28;01mfinally\u001b[39;00m:\n\u001b[1;32m   1165\u001b[0m     \u001b[38;5;28mself\u001b[39m\u001b[38;5;241m.\u001b[39mconnection \u001b[38;5;241m=\u001b[39m \u001b[38;5;28;01mNone\u001b[39;00m\n",
      "File \u001b[0;32m/opt/homebrew/anaconda3/lib/python3.9/site-packages/pymysql/connections.py:1236\u001b[0m, in \u001b[0;36mMySQLResult._read_result_packet\u001b[0;34m(self, first_packet)\u001b[0m\n\u001b[1;32m   1234\u001b[0m \u001b[38;5;28mself\u001b[39m\u001b[38;5;241m.\u001b[39mfield_count \u001b[38;5;241m=\u001b[39m first_packet\u001b[38;5;241m.\u001b[39mread_length_encoded_integer()\n\u001b[1;32m   1235\u001b[0m \u001b[38;5;28mself\u001b[39m\u001b[38;5;241m.\u001b[39m_get_descriptions()\n\u001b[0;32m-> 1236\u001b[0m \u001b[38;5;28;43mself\u001b[39;49m\u001b[38;5;241;43m.\u001b[39;49m\u001b[43m_read_rowdata_packet\u001b[49m\u001b[43m(\u001b[49m\u001b[43m)\u001b[49m\n",
      "File \u001b[0;32m/opt/homebrew/anaconda3/lib/python3.9/site-packages/pymysql/connections.py:1270\u001b[0m, in \u001b[0;36mMySQLResult._read_rowdata_packet\u001b[0;34m(self)\u001b[0m\n\u001b[1;32m   1268\u001b[0m rows \u001b[38;5;241m=\u001b[39m []\n\u001b[1;32m   1269\u001b[0m \u001b[38;5;28;01mwhile\u001b[39;00m \u001b[38;5;28;01mTrue\u001b[39;00m:\n\u001b[0;32m-> 1270\u001b[0m     packet \u001b[38;5;241m=\u001b[39m \u001b[38;5;28;43mself\u001b[39;49m\u001b[38;5;241;43m.\u001b[39;49m\u001b[43mconnection\u001b[49m\u001b[38;5;241;43m.\u001b[39;49m\u001b[43m_read_packet\u001b[49m\u001b[43m(\u001b[49m\u001b[43m)\u001b[49m\n\u001b[1;32m   1271\u001b[0m     \u001b[38;5;28;01mif\u001b[39;00m \u001b[38;5;28mself\u001b[39m\u001b[38;5;241m.\u001b[39m_check_packet_is_eof(packet):\n\u001b[1;32m   1272\u001b[0m         \u001b[38;5;28mself\u001b[39m\u001b[38;5;241m.\u001b[39mconnection \u001b[38;5;241m=\u001b[39m \u001b[38;5;28;01mNone\u001b[39;00m  \u001b[38;5;66;03m# release reference to kill cyclic reference.\u001b[39;00m\n",
      "File \u001b[0;32m/opt/homebrew/anaconda3/lib/python3.9/site-packages/pymysql/connections.py:711\u001b[0m, in \u001b[0;36mConnection._read_packet\u001b[0;34m(self, packet_type)\u001b[0m\n\u001b[1;32m    705\u001b[0m     \u001b[38;5;28;01mraise\u001b[39;00m err\u001b[38;5;241m.\u001b[39mInternalError(\n\u001b[1;32m    706\u001b[0m         \u001b[38;5;124m\"\u001b[39m\u001b[38;5;124mPacket sequence number wrong - got \u001b[39m\u001b[38;5;132;01m%d\u001b[39;00m\u001b[38;5;124m expected \u001b[39m\u001b[38;5;132;01m%d\u001b[39;00m\u001b[38;5;124m\"\u001b[39m\n\u001b[1;32m    707\u001b[0m         \u001b[38;5;241m%\u001b[39m (packet_number, \u001b[38;5;28mself\u001b[39m\u001b[38;5;241m.\u001b[39m_next_seq_id)\n\u001b[1;32m    708\u001b[0m     )\n\u001b[1;32m    709\u001b[0m \u001b[38;5;28mself\u001b[39m\u001b[38;5;241m.\u001b[39m_next_seq_id \u001b[38;5;241m=\u001b[39m (\u001b[38;5;28mself\u001b[39m\u001b[38;5;241m.\u001b[39m_next_seq_id \u001b[38;5;241m+\u001b[39m \u001b[38;5;241m1\u001b[39m) \u001b[38;5;241m%\u001b[39m \u001b[38;5;241m256\u001b[39m\n\u001b[0;32m--> 711\u001b[0m recv_data \u001b[38;5;241m=\u001b[39m \u001b[38;5;28;43mself\u001b[39;49m\u001b[38;5;241;43m.\u001b[39;49m\u001b[43m_read_bytes\u001b[49m\u001b[43m(\u001b[49m\u001b[43mbytes_to_read\u001b[49m\u001b[43m)\u001b[49m\n\u001b[1;32m    712\u001b[0m \u001b[38;5;28;01mif\u001b[39;00m DEBUG:\n\u001b[1;32m    713\u001b[0m     dump_packet(recv_data)\n",
      "File \u001b[0;32m/opt/homebrew/anaconda3/lib/python3.9/site-packages/pymysql/connections.py:732\u001b[0m, in \u001b[0;36mConnection._read_bytes\u001b[0;34m(self, num_bytes)\u001b[0m\n\u001b[1;32m    730\u001b[0m \u001b[38;5;28;01mwhile\u001b[39;00m \u001b[38;5;28;01mTrue\u001b[39;00m:\n\u001b[1;32m    731\u001b[0m     \u001b[38;5;28;01mtry\u001b[39;00m:\n\u001b[0;32m--> 732\u001b[0m         data \u001b[38;5;241m=\u001b[39m \u001b[38;5;28;43mself\u001b[39;49m\u001b[38;5;241;43m.\u001b[39;49m\u001b[43m_rfile\u001b[49m\u001b[38;5;241;43m.\u001b[39;49m\u001b[43mread\u001b[49m\u001b[43m(\u001b[49m\u001b[43mnum_bytes\u001b[49m\u001b[43m)\u001b[49m\n\u001b[1;32m    733\u001b[0m         \u001b[38;5;28;01mbreak\u001b[39;00m\n\u001b[1;32m    734\u001b[0m     \u001b[38;5;28;01mexcept\u001b[39;00m (\u001b[38;5;167;01mIOError\u001b[39;00m, \u001b[38;5;167;01mOSError\u001b[39;00m) \u001b[38;5;28;01mas\u001b[39;00m e:\n",
      "File \u001b[0;32m/opt/homebrew/anaconda3/lib/python3.9/socket.py:704\u001b[0m, in \u001b[0;36mSocketIO.readinto\u001b[0;34m(self, b)\u001b[0m\n\u001b[1;32m    702\u001b[0m \u001b[38;5;28;01mwhile\u001b[39;00m \u001b[38;5;28;01mTrue\u001b[39;00m:\n\u001b[1;32m    703\u001b[0m     \u001b[38;5;28;01mtry\u001b[39;00m:\n\u001b[0;32m--> 704\u001b[0m         \u001b[38;5;28;01mreturn\u001b[39;00m \u001b[38;5;28;43mself\u001b[39;49m\u001b[38;5;241;43m.\u001b[39;49m\u001b[43m_sock\u001b[49m\u001b[38;5;241;43m.\u001b[39;49m\u001b[43mrecv_into\u001b[49m\u001b[43m(\u001b[49m\u001b[43mb\u001b[49m\u001b[43m)\u001b[49m\n\u001b[1;32m    705\u001b[0m     \u001b[38;5;28;01mexcept\u001b[39;00m timeout:\n\u001b[1;32m    706\u001b[0m         \u001b[38;5;28mself\u001b[39m\u001b[38;5;241m.\u001b[39m_timeout_occurred \u001b[38;5;241m=\u001b[39m \u001b[38;5;28;01mTrue\u001b[39;00m\n",
      "\u001b[0;31mKeyboardInterrupt\u001b[0m: "
     ]
    }
   ],
   "source": [
    "employees = pd.read_sql('select * from salaries', url)"
   ]
  },
  {
   "cell_type": "code",
   "execution_count": null,
   "id": "ce546476",
   "metadata": {},
   "outputs": [],
   "source": [
    "employement_length = employees.to_date - employees.from_date"
   ]
  },
  {
   "cell_type": "code",
   "execution_count": null,
   "id": "5354d68f",
   "metadata": {},
   "outputs": [],
   "source": []
  },
  {
   "cell_type": "code",
   "execution_count": null,
   "id": "6f3af893",
   "metadata": {},
   "outputs": [],
   "source": []
  },
  {
   "cell_type": "code",
   "execution_count": null,
   "id": "c5552407",
   "metadata": {},
   "outputs": [],
   "source": []
  },
  {
   "cell_type": "code",
   "execution_count": null,
   "id": "fb0e5e5c",
   "metadata": {},
   "outputs": [],
   "source": []
  },
  {
   "cell_type": "markdown",
   "id": "761fe443",
   "metadata": {},
   "source": [
    "##### a. Is there a relationship between how long an employee has been with the company and their salary?"
   ]
  },
  {
   "cell_type": "code",
   "execution_count": null,
   "id": "3d40d7a7",
   "metadata": {},
   "outputs": [],
   "source": [
    "empoyees."
   ]
  },
  {
   "cell_type": "code",
   "execution_count": null,
   "id": "d934f948",
   "metadata": {},
   "outputs": [],
   "source": []
  },
  {
   "cell_type": "code",
   "execution_count": null,
   "id": "6145f344",
   "metadata": {},
   "outputs": [],
   "source": []
  },
  {
   "cell_type": "code",
   "execution_count": null,
   "id": "0f4ad8b4",
   "metadata": {},
   "outputs": [],
   "source": []
  },
  {
   "cell_type": "code",
   "execution_count": null,
   "id": "b5e1d98a",
   "metadata": {},
   "outputs": [],
   "source": []
  },
  {
   "cell_type": "code",
   "execution_count": null,
   "id": "d974be6d",
   "metadata": {},
   "outputs": [],
   "source": []
  },
  {
   "cell_type": "code",
   "execution_count": null,
   "id": "f2c41b2e",
   "metadata": {},
   "outputs": [],
   "source": []
  },
  {
   "cell_type": "markdown",
   "id": "0b8a20d3",
   "metadata": {},
   "source": [
    "##### b. Is there a relationship between how long an employee has been with the company and the number of titles they have had?"
   ]
  },
  {
   "cell_type": "code",
   "execution_count": null,
   "id": "e59cf908",
   "metadata": {},
   "outputs": [],
   "source": []
  },
  {
   "cell_type": "markdown",
   "id": "1d14c42e",
   "metadata": {},
   "source": [
    "### 4. Use the sleepstudy data.\n",
    "    Is there a relationship between days and reaction time?"
   ]
  },
  {
   "cell_type": "code",
   "execution_count": 177,
   "id": "8cfe2f3c",
   "metadata": {},
   "outputs": [
    {
     "data": {
      "text/html": [
       "<div>\n",
       "<style scoped>\n",
       "    .dataframe tbody tr th:only-of-type {\n",
       "        vertical-align: middle;\n",
       "    }\n",
       "\n",
       "    .dataframe tbody tr th {\n",
       "        vertical-align: top;\n",
       "    }\n",
       "\n",
       "    .dataframe thead th {\n",
       "        text-align: right;\n",
       "    }\n",
       "</style>\n",
       "<table border=\"1\" class=\"dataframe\">\n",
       "  <thead>\n",
       "    <tr style=\"text-align: right;\">\n",
       "      <th></th>\n",
       "      <th>Reaction</th>\n",
       "      <th>Days</th>\n",
       "      <th>Subject</th>\n",
       "    </tr>\n",
       "  </thead>\n",
       "  <tbody>\n",
       "    <tr>\n",
       "      <th>1</th>\n",
       "      <td>249.5600</td>\n",
       "      <td>0</td>\n",
       "      <td>308</td>\n",
       "    </tr>\n",
       "    <tr>\n",
       "      <th>2</th>\n",
       "      <td>258.7047</td>\n",
       "      <td>1</td>\n",
       "      <td>308</td>\n",
       "    </tr>\n",
       "    <tr>\n",
       "      <th>3</th>\n",
       "      <td>250.8006</td>\n",
       "      <td>2</td>\n",
       "      <td>308</td>\n",
       "    </tr>\n",
       "    <tr>\n",
       "      <th>4</th>\n",
       "      <td>321.4398</td>\n",
       "      <td>3</td>\n",
       "      <td>308</td>\n",
       "    </tr>\n",
       "    <tr>\n",
       "      <th>5</th>\n",
       "      <td>356.8519</td>\n",
       "      <td>4</td>\n",
       "      <td>308</td>\n",
       "    </tr>\n",
       "    <tr>\n",
       "      <th>...</th>\n",
       "      <td>...</td>\n",
       "      <td>...</td>\n",
       "      <td>...</td>\n",
       "    </tr>\n",
       "    <tr>\n",
       "      <th>176</th>\n",
       "      <td>329.6076</td>\n",
       "      <td>5</td>\n",
       "      <td>372</td>\n",
       "    </tr>\n",
       "    <tr>\n",
       "      <th>177</th>\n",
       "      <td>334.4818</td>\n",
       "      <td>6</td>\n",
       "      <td>372</td>\n",
       "    </tr>\n",
       "    <tr>\n",
       "      <th>178</th>\n",
       "      <td>343.2199</td>\n",
       "      <td>7</td>\n",
       "      <td>372</td>\n",
       "    </tr>\n",
       "    <tr>\n",
       "      <th>179</th>\n",
       "      <td>369.1417</td>\n",
       "      <td>8</td>\n",
       "      <td>372</td>\n",
       "    </tr>\n",
       "    <tr>\n",
       "      <th>180</th>\n",
       "      <td>364.1236</td>\n",
       "      <td>9</td>\n",
       "      <td>372</td>\n",
       "    </tr>\n",
       "  </tbody>\n",
       "</table>\n",
       "<p>180 rows × 3 columns</p>\n",
       "</div>"
      ],
      "text/plain": [
       "     Reaction  Days  Subject\n",
       "1    249.5600     0      308\n",
       "2    258.7047     1      308\n",
       "3    250.8006     2      308\n",
       "4    321.4398     3      308\n",
       "5    356.8519     4      308\n",
       "..        ...   ...      ...\n",
       "176  329.6076     5      372\n",
       "177  334.4818     6      372\n",
       "178  343.2199     7      372\n",
       "179  369.1417     8      372\n",
       "180  364.1236     9      372\n",
       "\n",
       "[180 rows x 3 columns]"
      ]
     },
     "execution_count": 177,
     "metadata": {},
     "output_type": "execute_result"
    }
   ],
   "source": [
    "df = data('sleepstudy')\n",
    "\n",
    "df"
   ]
  },
  {
   "cell_type": "markdown",
   "id": "231d6f4b",
   "metadata": {},
   "source": [
    "##### a. Is there a relationship between days and reaction time?\n",
    "H$_0$: There is no linear correlation between days and reaction time.\n",
    "\n",
    "H$_a$: This is a linear correlation between days and reaction time."
   ]
  },
  {
   "cell_type": "code",
   "execution_count": 185,
   "id": "3703ce2f",
   "metadata": {},
   "outputs": [],
   "source": [
    "days = df.Days\n",
    "reaction_time = df.Reaction\n"
   ]
  },
  {
   "cell_type": "code",
   "execution_count": 186,
   "id": "d41d4e58",
   "metadata": {},
   "outputs": [
    {
     "data": {
      "text/plain": [
       "(0.5352302262650255, 9.89409632221439e-15)"
      ]
     },
     "execution_count": 186,
     "metadata": {},
     "output_type": "execute_result"
    }
   ],
   "source": [
    "r, p = stats.pearsonr(days, reaction_time)\n",
    "\n",
    "r, p"
   ]
  },
  {
   "cell_type": "code",
   "execution_count": 187,
   "id": "c2fd63a9",
   "metadata": {},
   "outputs": [
    {
     "name": "stdout",
     "output_type": "stream",
     "text": [
      "We reject the null hypothesis. With p value: 9.89409632221439e-15, there is enough evidence to support a linear relationship between days and reaction time.\n"
     ]
    },
    {
     "data": {
      "text/plain": [
       "True"
      ]
     },
     "execution_count": 187,
     "metadata": {},
     "output_type": "execute_result"
    }
   ],
   "source": [
    "if p < α:\n",
    "    print(f'We reject the null hypothesis. With p value: {p}, there is enough evidence to support a linear relationship between days and reaction time.')\n",
    "else:\n",
    "    print(f'We fail to reject the null hypothesis. With p value: {p}, this is not enough evidence to support a linear relationship between between days and reaction time.')\n",
    "\n",
    "p < α"
   ]
  },
  {
   "cell_type": "code",
   "execution_count": null,
   "id": "c51b1241",
   "metadata": {},
   "outputs": [],
   "source": []
  }
 ],
 "metadata": {
  "kernelspec": {
   "display_name": "Python 3 (ipykernel)",
   "language": "python",
   "name": "python3"
  },
  "language_info": {
   "codemirror_mode": {
    "name": "ipython",
    "version": 3
   },
   "file_extension": ".py",
   "mimetype": "text/x-python",
   "name": "python",
   "nbconvert_exporter": "python",
   "pygments_lexer": "ipython3",
   "version": "3.9.13"
  }
 },
 "nbformat": 4,
 "nbformat_minor": 5
}
